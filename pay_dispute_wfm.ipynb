{
 "cells": [
  {
   "cell_type": "code",
   "execution_count": 2,
   "id": "d0d4c433-76d4-463b-9d8a-63715121aae1",
   "metadata": {},
   "outputs": [],
   "source": [
    "import pandas as pd"
   ]
  },
  {
   "cell_type": "markdown",
   "id": "2e801d59-9d29-4fb4-a7d6-61af1ce4c400",
   "metadata": {},
   "source": [
    "#### SQL"
   ]
  },
  {
   "cell_type": "markdown",
   "id": "5a4d6773-64b9-4d43-b9aa-f3fff1eb36e8",
   "metadata": {},
   "source": [
    "# Script"
   ]
  },
  {
   "cell_type": "markdown",
   "id": "30df1b8b-01b2-4aab-9c70-d279e4a92198",
   "metadata": {},
   "source": [
    "#### Aux Data"
   ]
  },
  {
   "cell_type": "markdown",
   "id": "0a358459-72e7-4d58-8b0c-431ffa0d4470",
   "metadata": {},
   "source": [
    "SELECT u.username, u.name, \n",
    "um.workforceId, up.shortName as position, ut.name as team_name, tl.name as team_lead,\n",
    "ua.*, uar.reason \n",
    "FROM kjtcallctr.useraction ua \n",
    "LEFT JOIN kjt.useractionreason uar ON uar.id = ua.reasonId\n",
    "LEFT JOIN kjt.user u ON u.uid = ua.uid \n",
    "join kjt.usermeta um on um.uid = u.uid\n",
    "join kjt.userteam ut on utid = um.teamId\n",
    "join kjt.user tl on tl.uid = ut.teamLead\n",
    "join kjt.userposition up on up.id = um.positionId \n",
    "where up.shortName in ('Tier I CSR','Tier II CSR','Tier III CSR')\n",
    "and ut.name not in ('NYC Admin','Testing','QFN Agent','MNL Backup')\n",
    "and ua.createTime > DATE_SUB(CURRENT_TIMESTAMP, INTERVAL 3 DAY);"
   ]
  },
  {
   "cell_type": "code",
   "execution_count": 158,
   "id": "27922f47-879d-4edc-b2b7-4798eb03223c",
   "metadata": {},
   "outputs": [
    {
     "name": "stderr",
     "output_type": "stream",
     "text": [
      "/var/folders/q2/1vhx3pcx0h37hzlw8pvc0s380000gn/T/ipykernel_47951/103832614.py:1: FutureWarning: The argument 'infer_datetime_format' is deprecated and will be removed in a future version. A strict version of it is now the default, see https://pandas.pydata.org/pdeps/0004-consistent-to-datetime-parsing.html. You can safely remove this argument.\n",
      "  df = pd.read_csv('Control Tower.csv',parse_dates=['CREATETIME','ENDTIME'],infer_datetime_format=True)\n"
     ]
    }
   ],
   "source": [
    "df = pd.read_csv('Control Tower.csv',parse_dates=['CREATETIME','ENDTIME'],infer_datetime_format=True)\n",
    "df.columns = [x.lower() for x in df.columns]\n",
    "df.createtime = df.createtime.dt.tz_localize(None)\n",
    "df.endtime = df.endtime.dt.tz_localize(None)\n",
    "df.rename(columns={'reason':'pos_status','createtime':'start_interval_log','endtime':'end_interval_log'}, inplace=True)"
   ]
  },
  {
   "cell_type": "code",
   "execution_count": 159,
   "id": "25b54eb3-42f1-469f-98ec-2a6779bde8db",
   "metadata": {},
   "outputs": [],
   "source": [
    "df.pos_status = df.pos_status.fillna('Phone Time')"
   ]
  },
  {
   "cell_type": "markdown",
   "id": "aaf9f04b-425d-42a0-94bc-be1ab8202f4d",
   "metadata": {},
   "source": [
    "### Schedule Data"
   ]
  },
  {
   "cell_type": "markdown",
   "id": "75f1b678-1fcc-4a29-9a3b-3dcbdf40a3b1",
   "metadata": {},
   "source": [
    "select * from wfm.userschedule\n",
    "where startTime > DATE_SUB(CURRENT_TIMESTAMP, INTERVAL 3 DAY)\n",
    "and endTime < DATE_SUB(CURRENT_TIMESTAMP, INTERVAL 1 DAY)\n"
   ]
  },
  {
   "cell_type": "code",
   "execution_count": 160,
   "id": "cee2d419-d102-4ae3-a42e-2b8bcbdbe875",
   "metadata": {},
   "outputs": [],
   "source": [
    "dx = pd.read_csv('pos_schedule.csv',parse_dates=['startTime','endTime'])"
   ]
  },
  {
   "cell_type": "code",
   "execution_count": 161,
   "id": "13188750-bb73-4591-9c6c-2f109960b857",
   "metadata": {},
   "outputs": [],
   "source": [
    "dx.columns = [x.lower()  for x in dx.columns]"
   ]
  },
  {
   "cell_type": "code",
   "execution_count": 162,
   "id": "3b29a074-fad7-417f-b5ed-de4e063282fb",
   "metadata": {},
   "outputs": [],
   "source": [
    "dx.rename(columns={'starttime': 'start_interval_sched','endtime':'end_interval_sched'}, inplace=True)"
   ]
  },
  {
   "cell_type": "markdown",
   "id": "c708a88f-c704-4016-ba9d-cb44cf7be678",
   "metadata": {},
   "source": [
    "#### match names"
   ]
  },
  {
   "cell_type": "markdown",
   "id": "0ed0b53f-809a-4cd6-9fdb-fab64412cbb6",
   "metadata": {},
   "source": [
    "#### match_agent"
   ]
  },
  {
   "cell_type": "markdown",
   "id": "1dd51877-7fd4-47e2-bc18-4c0b33c8a7bc",
   "metadata": {},
   "source": [
    "##### KEY"
   ]
  },
  {
   "cell_type": "markdown",
   "id": "70945c93-07fe-4030-9f57-6a18ed6ea22b",
   "metadata": {},
   "source": [
    "1.  Happy\n",
    "2.  Benefit of the doubt\n",
    "3. Working When you shouldn't be \n",
    "4.  Not Working when you should be \n",
    "5. working when you REALLY shouldn't be \n",
    "6. Overtime on break\n",
    "7. Unverified Overtime\n",
    "8. Happy not working\n",
    "99. Phone Time == Phone Time"
   ]
  },
  {
   "cell_type": "code",
   "execution_count": 163,
   "id": "fbdea6c0-61ae-41ac-857d-30df4fc7051f",
   "metadata": {},
   "outputs": [],
   "source": [
    "#https://docs.google.com/spreadsheets/d/1_LGtHXwhCCctXMXO_gi_3d9RbjrK3bfzmH8mNFIaMCU/edit#gid=233384588"
   ]
  },
  {
   "cell_type": "code",
   "execution_count": 164,
   "id": "3fd91eac-0cd2-45c8-aaff-8efb09af57ed",
   "metadata": {},
   "outputs": [],
   "source": [
    "am  = pd.read_csv('activity_matrix.csv')\n",
    "am = am.set_index('Unnamed: 0')\n",
    "activity_matrix = am.to_dict()\n",
    "\n",
    "\n",
    "\n",
    "\n"
   ]
  },
  {
   "cell_type": "markdown",
   "id": "278a8138-7e01-40a3-b06e-5978828ba77b",
   "metadata": {},
   "source": [
    "#### from here, analyze per agent"
   ]
  },
  {
   "cell_type": "code",
   "execution_count": 165,
   "id": "458345c8-a677-42a8-ab2e-14a6f36128f7",
   "metadata": {},
   "outputs": [],
   "source": [
    "def create_scheduled_off(tdx):\n",
    "    scheduled_offs = []\n",
    "    for i,row in tdx.loc[tdx.time_between_sched > 0].iterrows():\n",
    "        row.end_interval_sched = row.start_interval_sched\n",
    "        row.start_interval_sched = row.last_end_interval_sched\n",
    "        row['activitytype'] = 'Scheduled Off'\n",
    "        scheduled_offs.append(row)\n",
    "    \n",
    "    return scheduled_offs"
   ]
  },
  {
   "cell_type": "code",
   "execution_count": 166,
   "id": "f2aaa97b-260c-4889-b7bc-a5f15248093e",
   "metadata": {},
   "outputs": [],
   "source": [
    "def log_exceeds_schedule(dfdirty):\n",
    "    added_rows = []\n",
    "    for i,row in dfdirty.iloc[:].iterrows():\n",
    "        entry1 = row.copy()\n",
    "        entry1.end_interval_log = entry1.end_interval_sched\n",
    "        added_rows.append(entry1)\n",
    "        entry2 = row.copy()\n",
    "        entry2.start_interval_log = entry2.end_interval_sched\n",
    "        added_rows.append(entry2)\n",
    "    df_new = pd.concat([s.to_frame().T for s in added_rows], ignore_index=True)\n",
    "    df_new = pd.DataFrame(df_new)\n",
    "    return df_new\n"
   ]
  },
  {
   "cell_type": "code",
   "execution_count": 167,
   "id": "d9a5d464-0f95-4231-8fd2-70e3864013a0",
   "metadata": {},
   "outputs": [],
   "source": [
    "def system_issue(category,mins, threshold_mins=5/60,categories=[4,5]):\n",
    "    if category in categories:\n",
    "        if mins < threshold_mins:\n",
    "            return category + 0.1\n",
    "    else:\n",
    "        return category\n",
    "    return category\n",
    "            "
   ]
  },
  {
   "cell_type": "code",
   "execution_count": 210,
   "id": "105c3985-487d-485b-af2b-337c86679f83",
   "metadata": {},
   "outputs": [],
   "source": [
    "def fix_split_interval(tdf,tdx):\n",
    "    tdf1 = pd.merge_asof(tdf.sort_values(by='start_interval_log',ascending=True),tdx.sort_values(by='start_interval_sched',ascending=True),\n",
    "    left_on='start_interval_log', right_on='start_interval_sched',suffixes=('_log', '_sched'),tolerance = pd.Timedelta('1 hour'), direction='backward')\n",
    "    \n",
    "    tdf1['end_surpass'] = tdf1.end_interval_sched < tdf1.end_interval_log\n",
    "    dfclean = tdf1.loc[(tdf1.end_surpass == False) & (~pd.isna(tdf1.activitytype))]\n",
    "    dfdirty = tdf1.loc[tdf1.end_surpass]\n",
    "    for i in [1,2,3]:\n",
    "        df_new = log_exceeds_schedule(dfdirty)\n",
    "        df_new['end_surpass'] = df_new.end_interval_sched < df_new.end_interval_log\n",
    "        df_new['end_surpass'] = df_new.end_interval_sched < df_new.end_interval_log\n",
    "        dfclean = pd.concat([dfclean,df_new.loc[df_new.end_surpass==False]])\n",
    "        dfdirty = df_new.loc[df_new.end_surpass]\n",
    "    \n",
    "    dfclean['work_verification_category'] = dfclean.apply(lambda row: activity_matrix.get(row.activitytype,{}).get(row['pos_status'],\"No Map\"),axis=1)\n",
    "    dfclean['mins'] = [round(x.seconds / 60,2)  for x in dfclean.end_interval_log - dfclean.start_interval_log]\n",
    "    dfclean['work_verification_category'] = dfclean.apply(lambda row: system_issue(row.work_verification_category,row.mins),axis=1)\n",
    "    return dfclean"
   ]
  },
  {
   "cell_type": "code",
   "execution_count": 211,
   "id": "04df286b-39d1-4bc4-8dcd-c43c0cc9c424",
   "metadata": {},
   "outputs": [],
   "source": [
    "def create_agent_timesheet(workforceid,df=df):\n",
    "    tdx = dx.loc[dx.workforceid == workforceid]\n",
    "    tdx = tdx.sort_values(by='start_interval_sched').reset_index(drop=True)\n",
    "    tdx['last_end_interval_sched']  = tdx['end_interval_sched'].shift(1)\n",
    "    tdx['time_between_sched'] = [x.seconds / 60 / 60 for x in tdx.start_interval_sched - tdx['end_interval_sched'].shift(1)]\n",
    "    offs = create_scheduled_off(tdx)\n",
    "    if len(offs) > 0:\n",
    "        offs = pd.concat([s.to_frame().T for s in offs], ignore_index=True)\n",
    "        tdx = pd.concat([tdx,offs])\n",
    "    else:\n",
    "        pass\n",
    "    tdx = tdx.sort_values(by='start_interval_sched',ascending=True)\n",
    "    tdx.start_interval_sched = pd.to_datetime(tdx.start_interval_sched)\n",
    "\n",
    "    \n",
    "    tdf = df.loc[df.workforceid == workforceid]\n",
    "    dfclean  =  fix_split_interval(tdf,tdx)\n",
    "    return dfclean"
   ]
  },
  {
   "cell_type": "code",
   "execution_count": 212,
   "id": "d7b04e91-9b71-48c4-a235-35574f56a764",
   "metadata": {},
   "outputs": [],
   "source": [
    "def find_unmapped_matrix(df):\n",
    "    broken = []\n",
    "    for i,row in df.iterrows():\n",
    "        try:\n",
    "            activity_matrix.get(row.activitytype).get(row['pos_status'])\n",
    "        except:\n",
    "            broken.append(row)\n",
    "    return broken"
   ]
  },
  {
   "cell_type": "code",
   "execution_count": 213,
   "id": "e2f85ced-d342-4187-b4f1-309bc34233ab",
   "metadata": {},
   "outputs": [],
   "source": [
    "agent_list = df.workforceid.unique().tolist()[:]"
   ]
  },
  {
   "cell_type": "code",
   "execution_count": 214,
   "id": "9010ac92-ef5d-46a5-b790-ce9d16795875",
   "metadata": {},
   "outputs": [],
   "source": [
    "tdx = dx.loc[dx.workforceid == agent_list[5]]"
   ]
  },
  {
   "cell_type": "code",
   "execution_count": 215,
   "id": "622944c2-3db9-462e-aa61-c2acff8b553b",
   "metadata": {},
   "outputs": [],
   "source": [
    "not_working =[]"
   ]
  },
  {
   "cell_type": "code",
   "execution_count": 216,
   "id": "b0de977d-68b4-4b13-888a-99f10c50dc03",
   "metadata": {},
   "outputs": [],
   "source": [
    "total_df = pd.DataFrame()"
   ]
  },
  {
   "cell_type": "code",
   "execution_count": 217,
   "id": "4b97dc84-75d0-4750-86f6-347b65e46736",
   "metadata": {},
   "outputs": [
    {
     "name": "stdout",
     "output_type": "stream",
     "text": [
      "woops, no df nan\n",
      "not working\n",
      "not working\n",
      "not working\n",
      "not working\n",
      "not working\n",
      "not working\n",
      "not working\n",
      "not working\n",
      "not working\n",
      "not working\n",
      "not working\n",
      "not working\n",
      "not working\n",
      "not working\n",
      "not working\n",
      "not working\n",
      "not working\n",
      "not working\n",
      "not working\n",
      "not working\n",
      "not working\n",
      "not working\n",
      "not working\n",
      "not working\n",
      "not working\n",
      "not working\n",
      "not working\n",
      "not working\n",
      "not working\n",
      "not working\n",
      "not working\n",
      "not working\n",
      "not working\n",
      "not working\n",
      "not working\n",
      "not working\n",
      "not working\n",
      "not working\n",
      "not working\n",
      "not working\n",
      "not working\n",
      "not working\n",
      "not working\n",
      "not working\n",
      "not working\n",
      "not working\n",
      "not working\n",
      "not working\n",
      "not working\n",
      "not working\n",
      "not working\n",
      "not working\n",
      "not working\n",
      "not working\n",
      "not working\n",
      "not working\n",
      "not working\n",
      "not working\n",
      "not working\n",
      "not working\n",
      "not working\n",
      "not working\n",
      "not working\n",
      "not working\n",
      "not working\n",
      "not working\n",
      "not working\n",
      "not working\n",
      "not working\n",
      "not working\n",
      "not working\n",
      "not working\n",
      "not working\n",
      "not working\n",
      "not working\n",
      "not working\n",
      "not working\n",
      "not working\n",
      "not working\n",
      "not working\n",
      "not working\n",
      "not working\n",
      "not working\n",
      "not working\n",
      "not working\n",
      "not working\n",
      "not working\n",
      "not working\n",
      "not working\n",
      "not working\n",
      "not working\n",
      "not working\n",
      "not working\n",
      "not working\n",
      "not working\n",
      "not working\n",
      "not working\n",
      "not working\n",
      "not working\n",
      "not working\n",
      "not working\n",
      "not working\n",
      "not working\n",
      "not working\n",
      "not working\n",
      "not working\n",
      "not working\n",
      "not working\n",
      "not working\n",
      "not working\n",
      "not working\n",
      "not working\n",
      "not working\n",
      "not working\n",
      "not working\n",
      "not working\n",
      "not working\n",
      "not working\n",
      "not working\n",
      "not working\n",
      "not working\n",
      "not working\n",
      "not working\n",
      "not working\n",
      "not working\n",
      "not working\n",
      "not working\n",
      "not working\n",
      "not working\n",
      "not working\n",
      "not working\n",
      "not working\n",
      "not working\n",
      "not working\n",
      "not working\n",
      "not working\n",
      "not working\n",
      "not working\n",
      "not working\n",
      "not working\n",
      "not working\n",
      "not working\n",
      "not working\n",
      "not working\n",
      "not working\n",
      "not working\n",
      "not working\n",
      "not working\n",
      "not working\n",
      "not working\n",
      "not working\n",
      "not working\n",
      "not working\n",
      "not working\n",
      "not working\n",
      "not working\n",
      "not working\n",
      "not working\n",
      "not working\n",
      "not working\n",
      "not working\n",
      "not working\n",
      "not working\n",
      "not working\n",
      "not working\n",
      "not working\n",
      "not working\n",
      "not working\n",
      "not working\n",
      "not working\n",
      "not working\n",
      "not working\n",
      "not working\n",
      "not working\n",
      "not working\n",
      "not working\n",
      "not working\n",
      "not working\n",
      "not working\n",
      "not working\n",
      "not working\n",
      "not working\n",
      "not working\n",
      "not working\n",
      "not working\n",
      "not working\n",
      "not working\n",
      "not working\n",
      "not working\n",
      "not working\n",
      "not working\n",
      "not working\n",
      "not working\n",
      "not working\n",
      "not working\n",
      "not working\n",
      "not working\n",
      "not working\n",
      "not working\n",
      "not working\n",
      "not working\n",
      "not working\n",
      "not working\n",
      "not working\n"
     ]
    }
   ],
   "source": [
    "for wfid in agent_list[:]:\n",
    "    if len(df.loc[df.workforceid == wfid]) < 1:\n",
    "        not_working.append(wfid)\n",
    "        print('woops, no df {}'.format(wfid))\n",
    "        continue\n",
    "    try:\n",
    "        total_df = pd.concat([total_df,create_agent_timesheet(wfid)])\n",
    "    except:\n",
    "        not_working.append(wfid)\n",
    "        print('not working')"
   ]
  },
  {
   "cell_type": "code",
   "execution_count": 219,
   "id": "45cdb5ba-7c8c-4cec-9a8a-b373bb9c9ed6",
   "metadata": {},
   "outputs": [],
   "source": [
    "total_df.loc[total_df.team_name == 'Kansas'].to_clipboard()"
   ]
  },
  {
   "cell_type": "code",
   "execution_count": 220,
   "id": "363b95da-d30c-49d6-b27e-5960da5516bf",
   "metadata": {},
   "outputs": [],
   "source": [
    "total_df.loc[total_df.work_verification_category == 2].sort_values(by='mins',ascending=False).to_clipboard()"
   ]
  },
  {
   "cell_type": "code",
   "execution_count": 226,
   "id": "7608f16a-ab9d-4452-b3dd-f11cade5d99c",
   "metadata": {},
   "outputs": [],
   "source": [
    "total_df[[ 'username',\n",
    " 'team_name',\n",
    " 'name',\n",
    " 'start_interval_log',\n",
    " 'end_interval_log',\n",
    " 'pos_status',\n",
    " 'activitytype',\n",
    " 'notes',\n",
    " 'start_interval_sched',\n",
    " 'end_interval_sched',\n",
    " 'work_verification_category',\n",
    " 'mins']].loc[(total_df.work_verification_category.isin([2])) & (total_df.mins < 300) & (total_df.mins >= 1)]"
   ]
  },
  {
   "cell_type": "code",
   "execution_count": 239,
   "id": "d9738565-5a08-4b62-9929-5ac3db12ba0f",
   "metadata": {},
   "outputs": [],
   "source": [
    "total_df[[ 'username',\n",
    " 'team_name',\n",
    " 'name',\n",
    " 'start_interval_log',\n",
    " 'end_interval_log',\n",
    " 'pos_status',\n",
    " 'activitytype',\n",
    " 'notes',\n",
    " 'start_interval_sched',\n",
    " 'end_interval_sched',\n",
    " 'work_verification_category',\n",
    " 'mins']].loc[(total_df.work_verification_category.isin([2])) & (total_df.mins < 300)  & (~total_df.team_name.isin(['CSA','DGT Leads','SME','MNL Leads','COS Support','COS Agent','CST']))& (total_df.mins >= 1)].to_clipboard()"
   ]
  },
  {
   "cell_type": "code",
   "execution_count": 234,
   "id": "abb9fea9-c2b1-439d-b8ff-83957bbf2982",
   "metadata": {},
   "outputs": [
    {
     "data": {
      "text/plain": [
       "team_name     \n",
       "Training          189\n",
       "Texas              37\n",
       "TMX Agents         21\n",
       "Santa Fe           20\n",
       "Cambridge          18\n",
       "Little Rock        13\n",
       "DR                 11\n",
       "Scottsdale         10\n",
       "Springfield         8\n",
       "Brooklyn            7\n",
       "Rochester           7\n",
       "Dallas              7\n",
       "El Segundo          6\n",
       "Riverdale           6\n",
       "Victoria            5\n",
       "Alabama             5\n",
       "Arizona             5\n",
       "Forth Worth         4\n",
       "Hollywood           4\n",
       "Boston              4\n",
       "Michigan            4\n",
       "EL Paso             3\n",
       "Nebraska            3\n",
       "Alburquerque        3\n",
       "Baltimore           3\n",
       "TIJUANA             3\n",
       "Savannah            3\n",
       "Columbus            3\n",
       "Reno                3\n",
       "Philadelphia        3\n",
       "Phoenix             3\n",
       "Wisconsin           3\n",
       "Hialeah             3\n",
       "Connecticut         2\n",
       "Indiana             2\n",
       "Omaha               2\n",
       "San Diego           2\n",
       "Nashville           2\n",
       "Delaware            2\n",
       "Mesa                2\n",
       "QA                  2\n",
       "Florida             2\n",
       "Murfreesboro        2\n",
       "Knoxville           2\n",
       "ST. Paul            1\n",
       "Alaska              1\n",
       "Baton Rouge         1\n",
       "System Content      1\n",
       "Idaho               1\n",
       "Atlanta             1\n",
       "Hayward             1\n",
       "Hawaii              1\n",
       "WFM                 1\n",
       "Name: count, dtype: int64"
      ]
     },
     "execution_count": 234,
     "metadata": {},
     "output_type": "execute_result"
    }
   ],
   "source": [
    "total_df[[ 'username',\n",
    " 'team_name',\n",
    " 'name',\n",
    " 'start_interval_log',\n",
    " 'end_interval_log',\n",
    " 'pos_status',\n",
    " 'activitytype',\n",
    " 'notes',\n",
    " 'start_interval_sched',\n",
    " 'end_interval_sched',\n",
    " 'work_verification_category',\n",
    " 'mins']].loc[(total_df.work_verification_category.isin([2])) & (total_df.mins < 300)  & (~total_df.team_name.isin(['CSA','DGT Leads','SME','MNL Leads','COS Support','COS Agent','CST']))& (total_df.mins >= 1)][['team_name']].value_counts()"
   ]
  },
  {
   "cell_type": "code",
   "execution_count": null,
   "id": "8efb2917-2f26-4970-9cc9-21c40760a78d",
   "metadata": {},
   "outputs": [],
   "source": []
  },
  {
   "cell_type": "code",
   "execution_count": null,
   "id": "0c912bb1-18f3-40ba-9d02-3d88918499e4",
   "metadata": {},
   "outputs": [],
   "source": []
  },
  {
   "cell_type": "code",
   "execution_count": null,
   "id": "ab208abd-302c-4aa8-b36e-724f969b1a2a",
   "metadata": {},
   "outputs": [],
   "source": []
  },
  {
   "cell_type": "code",
   "execution_count": null,
   "id": "e6cfff72-7c73-4090-be27-97d611bda16b",
   "metadata": {},
   "outputs": [],
   "source": []
  },
  {
   "cell_type": "code",
   "execution_count": null,
   "id": "e9807a18-5923-47a9-89a7-0c5d14f195b3",
   "metadata": {},
   "outputs": [],
   "source": []
  },
  {
   "cell_type": "code",
   "execution_count": null,
   "id": "978375c9-05f8-4e11-bbe5-6412ca3c530f",
   "metadata": {},
   "outputs": [],
   "source": []
  },
  {
   "cell_type": "code",
   "execution_count": null,
   "id": "55b84baa-f22a-4eb5-8caf-b2cbc52610ef",
   "metadata": {},
   "outputs": [],
   "source": []
  },
  {
   "cell_type": "code",
   "execution_count": null,
   "id": "48e0927c-0ecd-4829-91a1-466844e3b962",
   "metadata": {},
   "outputs": [],
   "source": []
  },
  {
   "cell_type": "code",
   "execution_count": null,
   "id": "e8f1b647-ed6a-48c4-a9ac-ccd68fba2809",
   "metadata": {},
   "outputs": [],
   "source": []
  },
  {
   "cell_type": "code",
   "execution_count": null,
   "id": "23a4cc8c-d5f8-466b-b7d4-aa4e33480b44",
   "metadata": {},
   "outputs": [],
   "source": []
  },
  {
   "cell_type": "code",
   "execution_count": null,
   "id": "37eb2b46-dd31-47dd-b686-d2d2b6710f4b",
   "metadata": {},
   "outputs": [],
   "source": [
    "tdf1 = total_df.groupby(['name','team_name','work_verification_category']).agg({'mins':'sum'}).reset_index()"
   ]
  },
  {
   "cell_type": "code",
   "execution_count": null,
   "id": "42f80d62-f2a8-4bc6-8982-f6b7e84f32af",
   "metadata": {},
   "outputs": [],
   "source": [
    "tdf1.groupby(['work_verification_category']).agg({\"mins\":['sum','count']}).to_clipboard()"
   ]
  },
  {
   "cell_type": "code",
   "execution_count": null,
   "id": "b58796b3-d02f-4069-a079-20f001947a45",
   "metadata": {},
   "outputs": [],
   "source": [
    "tdf1.groupby('work_verification_category').agg({'mins':['sum','count']}).to_clipboard()"
   ]
  },
  {
   "cell_type": "code",
   "execution_count": null,
   "id": "860a564d-e487-4d0e-b7b3-910fbb4c49c6",
   "metadata": {},
   "outputs": [],
   "source": [
    "total_df.loc[(total_df.work_verification_category == 2) & (total_df.mins > 15) & (total_df.activitytype != 'Phone Time')]"
   ]
  },
  {
   "cell_type": "code",
   "execution_count": null,
   "id": "cbb40eb1-acc4-42aa-b37c-dbf7ff61cddf",
   "metadata": {},
   "outputs": [],
   "source": [
    "tdf1 = tdf1.pivot(index=['name','team_name'], columns='work_verification_category', values='mins').reset_index()\n"
   ]
  },
  {
   "cell_type": "code",
   "execution_count": null,
   "id": "43ee8e2e-4d4e-4dce-aba1-fb492caa7af5",
   "metadata": {},
   "outputs": [],
   "source": [
    "tdf1 = tdf1.fillna(0)"
   ]
  },
  {
   "cell_type": "code",
   "execution_count": null,
   "id": "1766f6de-e79b-4f50-bef6-2076d4d68540",
   "metadata": {},
   "outputs": [],
   "source": [
    "tdf1.to_clipboard()"
   ]
  },
  {
   "cell_type": "code",
   "execution_count": null,
   "id": "ed4b31c5-3e3f-41e6-8de8-fe0aa3513212",
   "metadata": {},
   "outputs": [],
   "source": [
    "tdf1.to_clipboard()"
   ]
  },
  {
   "cell_type": "code",
   "execution_count": null,
   "id": "29dfc776-9f40-4f9c-9973-54807e137978",
   "metadata": {},
   "outputs": [],
   "source": [
    "tdf1.loc[:, ~tdf1.columns.isin(['name', 'team_name',6,8])] = tdf1.loc[:, ~tdf1.columns.isin(['name', 'team_name',6,8])].apply(lambda row: row / row.sum(),axis=1)"
   ]
  },
  {
   "cell_type": "code",
   "execution_count": null,
   "id": "ed1b591e-6e6c-4823-8f64-a2ae156f0646",
   "metadata": {},
   "outputs": [],
   "source": [
    "tdf1.to_clipboard()"
   ]
  },
  {
   "cell_type": "code",
   "execution_count": null,
   "id": "f73c9fc8-6566-4d1a-a93f-d2ae1cc0679d",
   "metadata": {},
   "outputs": [],
   "source": [
    "total_df.loc[total_df.name.str.contains(\"Puntero\")].to_clipboard()"
   ]
  },
  {
   "cell_type": "code",
   "execution_count": null,
   "id": "40b2227a-4232-4d70-bb85-5c1572d072bc",
   "metadata": {},
   "outputs": [],
   "source": [
    "total_df.loc[total_df.work_verification_category == \"No Map\"].groupby(['pos_status','activitytype'])[['mins']].sum().to_clipboard()"
   ]
  },
  {
   "cell_type": "code",
   "execution_count": null,
   "id": "d2a0e4a5-4665-48ad-9008-d24b6a8c6650",
   "metadata": {},
   "outputs": [],
   "source": [
    "total_df"
   ]
  },
  {
   "cell_type": "code",
   "execution_count": null,
   "id": "07863247-7ef5-4bb9-8e1a-3331c22056e3",
   "metadata": {},
   "outputs": [],
   "source": [
    "total_df.activitytype.value_counts()"
   ]
  },
  {
   "cell_type": "code",
   "execution_count": null,
   "id": "748c6e39-335f-443e-87bc-a220c7879720",
   "metadata": {},
   "outputs": [],
   "source": [
    "# Agents Scheduled for Phone Time\n",
    "# Agents On Phone Time \n"
   ]
  },
  {
   "cell_type": "code",
   "execution_count": null,
   "id": "b6fb59e7-e480-41a1-80d4-9aafd19b61c6",
   "metadata": {},
   "outputs": [],
   "source": [
    "check_time = '2024-03-08 16:45'"
   ]
  },
  {
   "cell_type": "code",
   "execution_count": null,
   "id": "dec3d529-1f52-4797-b14f-36f8a2c0b247",
   "metadata": {},
   "outputs": [],
   "source": [
    "    cri_a = total_df.start_interval_sched < check_time \n",
    "    cri_b = total_df.end_interval_sched > check_time \n",
    "    cri_status = total_df.schedule == 'Phone Time'"
   ]
  },
  {
   "cell_type": "code",
   "execution_count": null,
   "id": "7d5ed4b5-690a-4076-ad6e-4d4e8dd361bb",
   "metadata": {},
   "outputs": [],
   "source": [
    "def check_phone_time(check_time):\n",
    "    cri_a = total_df.start_interval_log < check_time \n",
    "    cri_b = total_df.end_interval_log > check_time \n",
    "    cri_status = total_df.pos_status == 'Phone Time'\n",
    "    phone_time = len(total_df.loc[cri_a & cri_b & cri_status])\n",
    "    \n",
    "    cri_a = total_df.start_interval_sched < check_time \n",
    "    cri_b = total_df.end_interval_sched > check_time \n",
    "    cri_status = total_df.schedule == 'Phone Time'\n",
    "    sched_time = len(total_df.loc[cri_a & cri_b & cri_status].name.unique())\n",
    "    return (phone_time, sched_time)\n",
    "\n",
    "\n",
    "\n",
    "\n",
    "def check_phone_time_roster(check_time):\n",
    "    cri_a = total_df.start_interval_log < check_time \n",
    "    cri_b = total_df.end_interval_log > check_time \n",
    "    \n",
    "    cri_scheduled = total_df.schedule == 'Phone Time'\n",
    "    cri_status = total_df.pos_status == 'Phone Time'\n",
    "\n",
    "    return (total_df.loc[cri_a & cri_b & cri_status],total_df.loc[cri_a & cri_b & cri_scheduled])"
   ]
  },
  {
   "cell_type": "code",
   "execution_count": null,
   "id": "4e164897-07fd-41ab-adda-efbe3507ce15",
   "metadata": {},
   "outputs": [],
   "source": [
    "check_phone_time('2024-03-01 10:30:00')"
   ]
  },
  {
   "cell_type": "code",
   "execution_count": null,
   "id": "58aedcec-b5b5-42b9-afc6-29f73b4b41a9",
   "metadata": {},
   "outputs": [],
   "source": [
    "import pandas as pd\n",
    "\n",
    "# Define start date and time\n",
    "start_datetime = '2024-03-08 10:30'\n",
    "\n",
    "# Create a DatetimeIndex starting from start_datetime with a frequency of every 5 minutes\n",
    "date_series = pd.date_range(start=start_datetime, periods=5000, freq='5T')\n",
    "\n",
    "print(date_series)\n"
   ]
  },
  {
   "cell_type": "code",
   "execution_count": null,
   "id": "4bb3c935-4c89-4bc4-8bc0-86e34d52354c",
   "metadata": {},
   "outputs": [],
   "source": [
    "dfc = pd.DataFrame(date_series)"
   ]
  },
  {
   "cell_type": "code",
   "execution_count": null,
   "id": "a3eeddf1-b6c0-4800-9a19-4e5221afd96f",
   "metadata": {},
   "outputs": [],
   "source": [
    "res = []"
   ]
  },
  {
   "cell_type": "code",
   "execution_count": null,
   "id": "060cfdbd-580b-4709-b9d6-786b79742144",
   "metadata": {},
   "outputs": [],
   "source": [
    "for i in dfc[0].tolist():\n",
    "    res.append(check_phone_time(i))"
   ]
  },
  {
   "cell_type": "code",
   "execution_count": null,
   "id": "6c330314-b802-486e-a830-2e97bc8adad5",
   "metadata": {},
   "outputs": [],
   "source": [
    "dfc['on_phone'] = [x[0] for x in res]\n",
    "dfc['scheduled'] = [x[1] for x in res]"
   ]
  },
  {
   "cell_type": "code",
   "execution_count": null,
   "id": "1856bb7a-93ec-4d13-b7b0-c0bac96a0deb",
   "metadata": {},
   "outputs": [],
   "source": [
    "dfc"
   ]
  },
  {
   "cell_type": "code",
   "execution_count": null,
   "id": "c99b230e-bac6-4601-9067-888cbba19f1d",
   "metadata": {},
   "outputs": [],
   "source": [
    "dfc.to_clipboard()"
   ]
  },
  {
   "cell_type": "code",
   "execution_count": null,
   "id": "179e89ac-3d91-4a6a-a209-369bffc463e4",
   "metadata": {},
   "outputs": [],
   "source": []
  },
  {
   "cell_type": "code",
   "execution_count": null,
   "id": "67f8d341-4d11-4482-be19-3ca12d55a046",
   "metadata": {},
   "outputs": [],
   "source": []
  },
  {
   "cell_type": "code",
   "execution_count": null,
   "id": "dc760f34-7edb-49ef-b866-0e56ac62ad43",
   "metadata": {},
   "outputs": [],
   "source": []
  },
  {
   "cell_type": "code",
   "execution_count": null,
   "id": "a999d8ba-6bae-4010-b0a3-691329aa4d36",
   "metadata": {},
   "outputs": [],
   "source": []
  },
  {
   "cell_type": "code",
   "execution_count": null,
   "id": "a28b83b1-baa9-446f-b9c7-d27d92a91e85",
   "metadata": {},
   "outputs": [],
   "source": [
    "total_df.loc[total_df.name == 'Jun Reyes'].to_clipboard()"
   ]
  },
  {
   "cell_type": "code",
   "execution_count": null,
   "id": "4e9e54ad-2667-4861-a02d-a5fc922adf31",
   "metadata": {},
   "outputs": [],
   "source": [
    "tdx = df1.loc[df1.agent_names == agent]\n",
    "tdx = tdx.sort_values(by='start_interval_sched').reset_index(drop=True)\n",
    "tdx['last_end_interval_sched']  = tdx['end_interval_sched'].shift(1)\n",
    "tdx['time_between_sched'] = [x.seconds / 60 / 60 for x in tdx.start_interval_sched - tdx['end_interval_sched'].shift(1) ]\n"
   ]
  },
  {
   "cell_type": "code",
   "execution_count": null,
   "id": "0da74d3b-9fc5-4dfe-9cbf-dc10cab7fed1",
   "metadata": {},
   "outputs": [],
   "source": [
    "tdf = df.loc[df.name == agent_pos_key]"
   ]
  },
  {
   "cell_type": "markdown",
   "id": "fbcc92f7-93e3-4016-8489-5b427ee5c0ee",
   "metadata": {},
   "source": [
    "#### create SCHEDULED_OFF "
   ]
  },
  {
   "cell_type": "code",
   "execution_count": null,
   "id": "1fb32b4d-7633-4123-bb67-4a79f689c77e",
   "metadata": {},
   "outputs": [],
   "source": [
    "tdx.pos_status.unique().tolist()"
   ]
  },
  {
   "cell_type": "code",
   "execution_count": null,
   "id": "c92be4e8-b9ae-4fd8-bd49-24a3473abb66",
   "metadata": {},
   "outputs": [],
   "source": [
    "def log_exceeds_schedule(dfdirty):\n",
    "    added_rows = []\n",
    "    for i,row in dfdirty.iloc[:].iterrows():\n",
    "        entry1 = row.copy()\n",
    "        entry1.end_interval_log = entry1.end_interval_sched\n",
    "        added_rows.append(entry1)\n",
    "        entry2 = row.copy()\n",
    "        entry2.start_interval_log = entry2.end_interval_sched\n",
    "        added_rows.append(entry2)\n",
    "\n",
    "    df_new = pd.DataFrame(added_rows)[['name','uid','type','reason.1','start_interval_log','end_interval_log']]\n",
    "    return df_new\n"
   ]
  },
  {
   "cell_type": "code",
   "execution_count": null,
   "id": "509168c5-92cb-424e-869e-3731d0637181",
   "metadata": {},
   "outputs": [],
   "source": [
    "def fix_split_interval():\n",
    "    tdf1 = pd.merge_asof(tdf.sort_values(by='start_interval_log',ascending=True),tdx.sort_values(by='start_interval_sched',ascending=True),\n",
    "    left_on='start_interval_log', right_on='start_interval_sched',suffixes=('_log', '_sched'), direction='backward')\n",
    "    tdf1 = tdf1[['name','uid','type','reason.1','pos_status','start_interval_log','end_interval_log','start_interval_sched','end_interval_sched']]\n",
    "    tdf1['end_surpass'] = tdf1.end_interval_sched < tdf1.end_interval_log\n",
    "    dfclean = tdf1.loc[(tdf1.end_surpass == False) & (~pd.isna(tdf1.pos_status))]\n",
    "\n",
    "    dfdirty = tdf1.loc[tdf1.end_surpass]\n",
    "    for i in [1,2,3]:\n",
    "        df_new = log_exceeds_schedule(dfdirty)\n",
    "        dfclean = pd.concat([dfclean,df_new.loc[df_new.end_surpass==False]])\n",
    "        dfdirty = df_new.loc[df_new.end_surpass]\n",
    "\n",
    "    dfclean['activity_type'] = dfclean.apply(lambda row: activity_matrix.get(row.pos_status).get(row['reason.1']),axis=1)\n",
    "    dfclean['mins'] = [round(x.seconds / 60,2)  for x in dfclean.end_interval_log - dfclean.start_interval_log]\n",
    "    dfclean[['name','reason.1','start_interval_log','end_interval_log','pos_status','start_interval_sched','end_interval_sched','mins','activity_type']].to_clipboard(index=False)\n",
    "\n",
    "    return dfclean"
   ]
  },
  {
   "cell_type": "code",
   "execution_count": null,
   "id": "92a205c0-9734-44aa-a0c2-75b7f09f793e",
   "metadata": {},
   "outputs": [],
   "source": []
  },
  {
   "cell_type": "code",
   "execution_count": null,
   "id": "839531c9-157e-4fde-8e9f-d0fc815ffcac",
   "metadata": {},
   "outputs": [],
   "source": []
  },
  {
   "cell_type": "markdown",
   "id": "923e05f5-a612-4d4d-8a39-aa10dc0ab28b",
   "metadata": {},
   "source": [
    "#### find split Interval"
   ]
  },
  {
   "cell_type": "code",
   "execution_count": null,
   "id": "111656b2-38c4-470d-9cc6-92f5352044a8",
   "metadata": {},
   "outputs": [],
   "source": [
    "tdf1 = pd.merge_asof(tdf.sort_values(by='start_interval_log',ascending=True),tdx.sort_values(by='start_interval_sched',ascending=True),\n",
    "    left_on='start_interval_log', \n",
    "    right_on='start_interval_sched',\n",
    "    suffixes=('_log', '_sched'), \n",
    "    direction='backward'\n",
    ")"
   ]
  },
  {
   "cell_type": "code",
   "execution_count": null,
   "id": "514cbe53-da7e-4e02-a1b8-52e3c2e9c5ac",
   "metadata": {},
   "outputs": [],
   "source": [
    "tdf1 = tdf1[['name','uid','type','reason.1','pos_status','start_interval_log','end_interval_log','start_interval_sched','end_interval_sched']]"
   ]
  },
  {
   "cell_type": "code",
   "execution_count": null,
   "id": "da38a8c1-9bd1-4150-9935-9f330706cc59",
   "metadata": {},
   "outputs": [],
   "source": [
    "tdf1['end_surpass'] = tdf1.end_interval_sched < tdf1.end_interval_log"
   ]
  },
  {
   "cell_type": "code",
   "execution_count": null,
   "id": "69a26358-cf02-480f-98fe-d7fab116488d",
   "metadata": {},
   "outputs": [],
   "source": [
    "dfclean = tdf1.loc[(tdf1.end_surpass == False) & (~pd.isna(tdf1.pos_status))]\n",
    "len(dfclean)"
   ]
  },
  {
   "cell_type": "code",
   "execution_count": null,
   "id": "40cfb2bb-f9bf-49aa-a419-0a1ea93fdd88",
   "metadata": {},
   "outputs": [],
   "source": [
    "dfdirty = tdf1.loc[tdf1.end_surpass]\n",
    "len(dfdirty)"
   ]
  },
  {
   "cell_type": "code",
   "execution_count": null,
   "id": "0e9914fd-a4cc-4257-8607-38bdb9c79c2b",
   "metadata": {},
   "outputs": [],
   "source": [
    "dfclean['activity_type'] = dfclean.apply(lambda row: activity_matrix.get(row.pos_status).get(row['reason.1']),axis=1)"
   ]
  },
  {
   "cell_type": "code",
   "execution_count": null,
   "id": "0c740e1d-548c-4b08-95f1-19a82bbb78c2",
   "metadata": {},
   "outputs": [],
   "source": [
    "dfclean['mins'] = [round(x.seconds / 60,2)  for x in dfclean.end_interval_log - dfclean.start_interval_log]"
   ]
  },
  {
   "cell_type": "code",
   "execution_count": null,
   "id": "4da85527-c996-4399-ae6e-8c8c77820043",
   "metadata": {},
   "outputs": [],
   "source": [
    "dfclean.to_clipboard()"
   ]
  },
  {
   "cell_type": "code",
   "execution_count": null,
   "id": "a8383249-ea0e-4131-98fb-bc58f64b8e96",
   "metadata": {},
   "outputs": [],
   "source": [
    "dfclean.groupby('activity_type')['mins'].sum()"
   ]
  },
  {
   "cell_type": "code",
   "execution_count": null,
   "id": "34349ed0-9297-424c-9e37-2897bc2aa661",
   "metadata": {},
   "outputs": [],
   "source": [
    "dfclean[['name','reason.1','start_interval_log','end_interval_log','pos_status','start_interval_sched','end_interval_sched','mins','activity_type']].to_clipboard(index=False)"
   ]
  },
  {
   "cell_type": "markdown",
   "id": "2dc85866-6527-4ddb-b9bd-2028e6dd739d",
   "metadata": {},
   "source": [
    "#### the problem is the end\n",
    "1. make a new entry\n",
    "2. clean up entry "
   ]
  },
  {
   "cell_type": "code",
   "execution_count": null,
   "id": "c9f90816-9883-445a-a898-05ff080d0479",
   "metadata": {},
   "outputs": [],
   "source": [
    "added_rows = []\n",
    "for i,row in dfdirty.iloc[:].iterrows():\n",
    "    entry1 = row.copy()\n",
    "    entry1.end_interval_log = entry1.end_interval_sched\n",
    "    added_rows.append(entry1)\n",
    "    entry2 = row.copy()\n",
    "    entry2.start_interval_log = entry2.end_interval_sched\n",
    "    added_rows.append(entry2)\n"
   ]
  },
  {
   "cell_type": "code",
   "execution_count": null,
   "id": "ec2c7c8f-e505-4d82-98e2-8b7231bf46c4",
   "metadata": {},
   "outputs": [],
   "source": [
    "df_new = pd.DataFrame(added_rows)"
   ]
  },
  {
   "cell_type": "code",
   "execution_count": null,
   "id": "a2fcfed9-494c-4569-ad96-7e556cd479d3",
   "metadata": {},
   "outputs": [],
   "source": [
    "df_new = df_new[['name','uid','type','reason.1','start_interval_log','end_interval_log']]"
   ]
  },
  {
   "cell_type": "code",
   "execution_count": null,
   "id": "22928f1e-902c-4538-ab9e-94db28a8b9df",
   "metadata": {},
   "outputs": [],
   "source": [
    "df_new = pd.merge_asof(df_new.sort_values(by='start_interval_log'),tdx[['pos_status','start_interval_sched','end_interval_sched']],\n",
    "    left_on='start_interval_log', \n",
    "    right_on='start_interval_sched',\n",
    "    suffixes=('_log', '_sched'), \n",
    "    direction='backward'\n",
    ")"
   ]
  },
  {
   "cell_type": "code",
   "execution_count": null,
   "id": "e9ddcf83-59b1-42c4-857c-799db91abe38",
   "metadata": {},
   "outputs": [],
   "source": [
    "df_new['end_surpass'] = df_new.end_interval_sched < df_new.end_interval_log"
   ]
  },
  {
   "cell_type": "code",
   "execution_count": null,
   "id": "dca8b3f9-3fca-41df-88fd-2b9b2a35e99b",
   "metadata": {},
   "outputs": [],
   "source": [
    "df_new.groupby('end_surpass').size()"
   ]
  },
  {
   "cell_type": "code",
   "execution_count": null,
   "id": "f21aff23-75c6-416d-8a8a-48110af14af5",
   "metadata": {},
   "outputs": [],
   "source": [
    "dfclean = pd.concat([dfclean,df_new.loc[df_new.end_surpass==False]])"
   ]
  },
  {
   "cell_type": "code",
   "execution_count": null,
   "id": "6b93664d-f85a-4c40-b47d-6c6675ecfaca",
   "metadata": {},
   "outputs": [],
   "source": [
    "dfdirty = df_new.loc[df_new.end_surpass]\n",
    "len(dfdirty)"
   ]
  },
  {
   "cell_type": "code",
   "execution_count": null,
   "id": "c7531878-c2f5-4a6b-9923-343a578157ae",
   "metadata": {},
   "outputs": [],
   "source": []
  },
  {
   "cell_type": "code",
   "execution_count": null,
   "id": "5bbd0a3c-0153-4346-83f0-416e0cdeb71a",
   "metadata": {},
   "outputs": [],
   "source": []
  },
  {
   "cell_type": "code",
   "execution_count": null,
   "id": "5c8fe9fb-8205-4e47-99f1-603e6f5cbc82",
   "metadata": {},
   "outputs": [],
   "source": []
  },
  {
   "cell_type": "code",
   "execution_count": null,
   "id": "9667a14a-a6d7-47c0-82a6-44c925b23d97",
   "metadata": {},
   "outputs": [],
   "source": []
  },
  {
   "cell_type": "code",
   "execution_count": null,
   "id": "7e56dbe6-2665-4e71-9613-50ec555216a4",
   "metadata": {},
   "outputs": [],
   "source": []
  },
  {
   "cell_type": "code",
   "execution_count": null,
   "id": "d399f777-99e6-4d04-b375-74d0a6930d9b",
   "metadata": {},
   "outputs": [],
   "source": []
  },
  {
   "cell_type": "code",
   "execution_count": null,
   "id": "46914c91-53be-44f3-aef4-ee7b47699967",
   "metadata": {},
   "outputs": [],
   "source": []
  },
  {
   "cell_type": "code",
   "execution_count": null,
   "id": "948f5269-8050-4b4b-86d9-8c88b6a7ec65",
   "metadata": {},
   "outputs": [],
   "source": []
  },
  {
   "cell_type": "code",
   "execution_count": null,
   "id": "c9d9d3ef-086d-4c98-85e5-62a502f901ab",
   "metadata": {},
   "outputs": [],
   "source": []
  },
  {
   "cell_type": "code",
   "execution_count": null,
   "id": "73f7a46f-2698-415a-8e9f-3f40c8e1f565",
   "metadata": {},
   "outputs": [],
   "source": []
  },
  {
   "cell_type": "code",
   "execution_count": null,
   "id": "d7feed99-147f-48de-92c5-07c4a6c79c1b",
   "metadata": {},
   "outputs": [],
   "source": []
  },
  {
   "cell_type": "code",
   "execution_count": null,
   "id": "0ac912e6-02b5-4b75-b068-1b7e31318cc0",
   "metadata": {},
   "outputs": [],
   "source": []
  },
  {
   "cell_type": "code",
   "execution_count": null,
   "id": "1dfb422d-1873-4c8e-9673-bd7ef6e1bd18",
   "metadata": {},
   "outputs": [],
   "source": []
  },
  {
   "cell_type": "code",
   "execution_count": null,
   "id": "89153f7c-268c-470a-b2cc-12ba88a3f437",
   "metadata": {},
   "outputs": [],
   "source": [
    "def is_overlap(start1, end1, start2, end2):\n",
    "    return max(start1, start2) < min(end1, end2)"
   ]
  },
  {
   "cell_type": "code",
   "execution_count": null,
   "id": "5c783c32-2a64-48bc-9399-6829eb65d043",
   "metadata": {},
   "outputs": [],
   "source": [
    "def get_intersection_and_non_overlap(schedule_start, schedule_end, actual_intervals):\n",
    "    intersection_intervals = []\n",
    "    non_overlap_intervals = []\n",
    "    \n",
    "    # Initial non-overlapped interval is the whole schedule\n",
    "    non_overlap_intervals.append((schedule_start, schedule_end))\n",
    "    \n",
    "    for actual_start, actual_end in actual_intervals:\n",
    "        new_non_overlap_intervals = []\n",
    "        \n",
    "        for non_overlap_start, non_overlap_end in non_overlap_intervals:\n",
    "            # Check for overlap\n",
    "            if actual_end < non_overlap_start or actual_start > non_overlap_end:\n",
    "                # No overlap, keep the interval as is\n",
    "                new_non_overlap_intervals.append((non_overlap_start, non_overlap_end))\n",
    "            else:\n",
    "                # If there's overlap, adjust non-overlapped intervals and record intersection\n",
    "                if actual_start > non_overlap_start:\n",
    "                    new_non_overlap_intervals.append((non_overlap_start, actual_start))\n",
    "                if actual_end < non_overlap_end:\n",
    "                    new_non_overlap_intervals.append((actual_end, non_overlap_end))\n",
    "                \n",
    "                # Add to intersection intervals\n",
    "                intersection_start = max(non_overlap_start, actual_start)\n",
    "                intersection_end = min(non_overlap_end, actual_end)\n",
    "                intersection_intervals.append((intersection_start, intersection_end))\n",
    "        \n",
    "        # Update non-overlap intervals after processing this actual interval\n",
    "        non_overlap_intervals = new_non_overlap_intervals\n",
    "\n",
    "    non_compliance_seconds = 0\n",
    "\n",
    "    for interval in non_overlap_intervals:\n",
    "        non_compliance_seconds += (interval[1] - interval[0]).seconds \n",
    "    \n",
    "    return intersection_intervals, non_overlap_intervals,non_compliance_seconds\n",
    "\n",
    "\n",
    "\n"
   ]
  },
  {
   "cell_type": "code",
   "execution_count": null,
   "id": "ffabcd92-54c8-4055-a1ad-aeb282c5b1d0",
   "metadata": {},
   "outputs": [],
   "source": [
    "tdx.start_time = pd.to_datetime(tdx.start_time)\n",
    "tdx.end_time = pd.to_datetime(tdx.end_time)"
   ]
  },
  {
   "cell_type": "code",
   "execution_count": null,
   "id": "8b770f7f-5d25-43e0-9625-a72ae1e43d8d",
   "metadata": {},
   "outputs": [],
   "source": [
    "tdx['start_interval'] = tdx.apply(startInterval,axis=1)\n",
    "tdx['start_interval'] = [x.tz_localize('UTC') for x in tdx.start_interval]\n",
    "tdx['end_interval'] = tdx.apply(endInterval,axis=1)\n",
    "tdx['end_interval'] = [x.tz_localize('UTC') for x in tdx.end_interval]\n"
   ]
  },
  {
   "cell_type": "code",
   "execution_count": null,
   "id": "272bd4cf-8235-4535-a33a-717554729f19",
   "metadata": {},
   "outputs": [],
   "source": [
    "def get_non_compliance_seconds(row):\n",
    "    if row.pos_status != 'Phone Time':\n",
    "        return 0\n",
    "    else:\n",
    "        return get_intersection_and_non_overlap(row.start_interval, row.end_interval, [(row.createtime,row.endtime) for i,row in tdf.iterrows()])[2]\n",
    "\n",
    "\n",
    "def get_non_compliance_seconds_stretch(row):\n",
    "    if row.pos_status != 'Phone Time':\n",
    "        return 0\n",
    "    else:\n",
    "        return get_intersection_and_non_overlap(row.start_interval, row.end_interval, [(row.createtime,row.endtime) for i,row in temp_df2.iterrows()])[2]\n",
    "        "
   ]
  },
  {
   "cell_type": "code",
   "execution_count": null,
   "id": "b91cd0d6-7844-4e12-8a07-33818646fddd",
   "metadata": {},
   "outputs": [],
   "source": []
  },
  {
   "cell_type": "code",
   "execution_count": null,
   "id": "9133da92-9f06-459b-8eaf-942ab7d9606a",
   "metadata": {},
   "outputs": [],
   "source": [
    "tdf = tdf.loc[tdf.type == 'on']"
   ]
  },
  {
   "cell_type": "code",
   "execution_count": null,
   "id": "8daac24a-8905-4685-b1ad-bc464eef4bd2",
   "metadata": {},
   "outputs": [],
   "source": [
    "tdx['non_adherance'] = tdx.apply(lambda row: get_non_compliance_seconds(row) if row.pos_status == 'Phone Time' else 0,axis=1)"
   ]
  },
  {
   "cell_type": "code",
   "execution_count": null,
   "id": "6cab1d5b-4be8-4444-9b35-ff387480fa61",
   "metadata": {},
   "outputs": [],
   "source": [
    "tdx['non_adherance_inc'] = tdx.apply(lambda row: get_non_compliance_seconds_stretch(row) if row.pos_status == 'Phone Time' else 0,axis=1)"
   ]
  },
  {
   "cell_type": "code",
   "execution_count": null,
   "id": "a691993f-2a1b-4cc2-85f6-e430a3a66cfc",
   "metadata": {},
   "outputs": [],
   "source": [
    "tdx['delta'] = tdx.non_adherance - tdx.non_adherance_inc"
   ]
  },
  {
   "cell_type": "code",
   "execution_count": null,
   "id": "74ef4cfc-bc67-4510-bd4c-4907aa95bb5d",
   "metadata": {},
   "outputs": [],
   "source": [
    "tdx.loc[tdx.pos_status == 'Phone Time'].sort_values(by='delta',ascending=False)['non_adherance'].sum() / 60 / 60"
   ]
  },
  {
   "cell_type": "code",
   "execution_count": null,
   "id": "02bce434-eebf-4bb7-b335-394652b18a7e",
   "metadata": {},
   "outputs": [],
   "source": [
    "tdx.loc[tdx.pos_status == 'Phone Time'].sort_values(by='delta',ascending=False)"
   ]
  },
  {
   "cell_type": "code",
   "execution_count": null,
   "id": "38418749-4bbf-49c3-bbc3-9ec46b2f4a07",
   "metadata": {},
   "outputs": [],
   "source": [
    "tdf"
   ]
  },
  {
   "cell_type": "code",
   "execution_count": null,
   "id": "0b85721d-c12b-4dd8-bc57-32fc88392f46",
   "metadata": {},
   "outputs": [],
   "source": []
  },
  {
   "cell_type": "code",
   "execution_count": null,
   "id": "ca0a6efb-f908-4f42-aeb1-93d729270de5",
   "metadata": {},
   "outputs": [],
   "source": []
  },
  {
   "cell_type": "code",
   "execution_count": null,
   "id": "7aa1eb38-27b7-402a-862b-8046dc245c79",
   "metadata": {},
   "outputs": [],
   "source": []
  }
 ],
 "metadata": {
  "kernelspec": {
   "display_name": "Python 3 (ipykernel)",
   "language": "python",
   "name": "python3"
  },
  "language_info": {
   "codemirror_mode": {
    "name": "ipython",
    "version": 3
   },
   "file_extension": ".py",
   "mimetype": "text/x-python",
   "name": "python",
   "nbconvert_exporter": "python",
   "pygments_lexer": "ipython3",
   "version": "3.12.0"
  }
 },
 "nbformat": 4,
 "nbformat_minor": 5
}
