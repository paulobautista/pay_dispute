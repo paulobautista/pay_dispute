{
 "cells": [
  {
   "cell_type": "code",
   "execution_count": 1,
   "id": "d0d4c433-76d4-463b-9d8a-63715121aae1",
   "metadata": {},
   "outputs": [
    {
     "name": "stderr",
     "output_type": "stream",
     "text": [
      "/var/folders/q2/1vhx3pcx0h37hzlw8pvc0s380000gn/T/ipykernel_16441/4080736814.py:1: DeprecationWarning: \n",
      "Pyarrow will become a required dependency of pandas in the next major release of pandas (pandas 3.0),\n",
      "(to allow more performant data types, such as the Arrow string type, and better interoperability with other libraries)\n",
      "but was not found to be installed on your system.\n",
      "If this would cause problems for you,\n",
      "please provide us feedback at https://github.com/pandas-dev/pandas/issues/54466\n",
      "        \n",
      "  import pandas as pd\n"
     ]
    }
   ],
   "source": [
    "import pandas as pd"
   ]
  },
  {
   "cell_type": "markdown",
   "id": "2e801d59-9d29-4fb4-a7d6-61af1ce4c400",
   "metadata": {},
   "source": [
    "#### SQL"
   ]
  },
  {
   "cell_type": "code",
   "execution_count": 313,
   "id": "fbb74375-47af-4f56-8f12-dcb22046efd9",
   "metadata": {},
   "outputs": [
    {
     "data": {
      "text/plain": [
       "\"select u.username, u.name, ua.*, uar.reason from kjtcallctr.useraction ua \\nleft join kjt.useractionreason uar on uar.id= ua.reasonId\\nleft join kjt.user u on u.uid = ua.uid \\nwhere ua.createTime > '2024-03-10'\\nand u.name like '%Irish%'\\norder by createTime;\""
      ]
     },
     "execution_count": 313,
     "metadata": {},
     "output_type": "execute_result"
    }
   ],
   "source": [
    "\"\"\"select u.username, u.name, ua.*, uar.reason from kjtcallctr.useraction ua \n",
    "left join kjt.useractionreason uar on uar.id= ua.reasonId\n",
    "left join kjt.user u on u.uid = ua.uid \n",
    "where ua.createTime > '2024-03-10'\n",
    "and u.name like '%Irish%'\n",
    "order by createTime;\"\"\""
   ]
  },
  {
   "cell_type": "markdown",
   "id": "5a4d6773-64b9-4d43-b9aa-f3fff1eb36e8",
   "metadata": {},
   "source": [
    "# Script"
   ]
  },
  {
   "cell_type": "code",
   "execution_count": 948,
   "id": "3bf1464b-b872-4b9a-8925-77ed48ac8003",
   "metadata": {},
   "outputs": [
    {
     "name": "stderr",
     "output_type": "stream",
     "text": [
      "/var/folders/q2/1vhx3pcx0h37hzlw8pvc0s380000gn/T/ipykernel_16441/2774530968.py:1: FutureWarning: The argument 'infer_datetime_format' is deprecated and will be removed in a future version. A strict version of it is now the default, see https://pandas.pydata.org/pdeps/0004-consistent-to-datetime-parsing.html. You can safely remove this argument.\n",
      "  df = pd.read_csv('pos_data_snowflake.csv',parse_dates=['CREATETIME','ENDTIME'],infer_datetime_format=True)\n"
     ]
    }
   ],
   "source": [
    "df = pd.read_csv('pos_data_snowflake.csv',parse_dates=['CREATETIME','ENDTIME'],infer_datetime_format=True)\n",
    "df.columns = [x.lower() for x in df.columns]\n",
    "\n",
    "df.createtime = df.createtime.dt.tz_localize(None)\n",
    "df.endtime = df.endtime.dt.tz_localize(None)"
   ]
  },
  {
   "cell_type": "code",
   "execution_count": 949,
   "id": "169b2c44-a032-46ce-a62d-f318095b6c61",
   "metadata": {},
   "outputs": [],
   "source": [
    "df.rename(columns={'endtime': 'end_interval_log'}, inplace=True)\n",
    "df.rename(columns={'createtime': 'start_interval_log'}, inplace=True)"
   ]
  },
  {
   "cell_type": "code",
   "execution_count": 950,
   "id": "7154d296-808a-4585-a37e-c6aa47a46e72",
   "metadata": {},
   "outputs": [],
   "source": [
    "df['reason'] = df['reason'].fillna(\"Phone Time\")"
   ]
  },
  {
   "cell_type": "code",
   "execution_count": 951,
   "id": "b8943c3d-b800-4dbf-8424-58d239444d77",
   "metadata": {},
   "outputs": [],
   "source": [
    "df.rename(columns={'reason': 'pos_status'}, inplace=True)"
   ]
  },
  {
   "cell_type": "code",
   "execution_count": 958,
   "id": "1b3cb743-2952-4b3f-9e6c-9eb4047e8a57",
   "metadata": {},
   "outputs": [],
   "source": [
    "df = df.loc[df.start_interval_log <  df.end_interval_log]"
   ]
  },
  {
   "cell_type": "code",
   "execution_count": 1392,
   "id": "785d9bdf-588a-442a-84dc-0021512f75b3",
   "metadata": {},
   "outputs": [
    {
     "name": "stderr",
     "output_type": "stream",
     "text": [
      "/Users/wonders/Documents/python/paydispute/venv/lib/python3.12/site-packages/openpyxl/styles/stylesheet.py:226: UserWarning: Workbook contains no default style, apply openpyxl's default\n",
      "  warn(\"Workbook contains no default style, apply openpyxl's default\")\n"
     ]
    }
   ],
   "source": [
    "dx = pd.read_excel('report (23).xlsx')"
   ]
  },
  {
   "cell_type": "code",
   "execution_count": 1393,
   "id": "e6e6099f-b572-42fe-bd5a-15ae246bc505",
   "metadata": {},
   "outputs": [],
   "source": [
    "dx.columns = range(len(list(dx)))"
   ]
  },
  {
   "cell_type": "markdown",
   "id": "c708a88f-c704-4016-ba9d-cb44cf7be678",
   "metadata": {},
   "source": [
    "#### match names"
   ]
  },
  {
   "cell_type": "code",
   "execution_count": 1394,
   "id": "c5291bca-911e-4aca-baae-a0f6a7f1be1a",
   "metadata": {},
   "outputs": [],
   "source": [
    "from datetime import datetime "
   ]
  },
  {
   "cell_type": "code",
   "execution_count": 1401,
   "id": "1a372cb6-2216-420d-893c-d798fe092a9a",
   "metadata": {},
   "outputs": [],
   "source": [
    "dx.iloc[126327:].iloc[:1000].to_clipboard()"
   ]
  },
  {
   "cell_type": "code",
   "execution_count": 1402,
   "id": "dddab695-4135-492b-98ba-9046065d84ef",
   "metadata": {},
   "outputs": [],
   "source": [
    "agent_name = None\n",
    "current_date = None\n",
    "\n",
    "agent_names = []\n",
    "iex_numbers = []\n",
    "current_dates = []\n",
    "pos_statuses = []\n",
    "start_times = []\n",
    "end_times = []\n",
    "\n",
    "\n",
    "for i,row in dx.iloc[1:].iterrows():\n",
    "\n",
    "    #check if new agent\n",
    "    if pd.notna(row[1]):\n",
    "        if row[1][:5] == 'Agent':\n",
    "\n",
    "            agent_name = \" \".join(row[1].split(':')[1].split()[1:])\n",
    "            iex_number = row[1].split(':')[1].split()[0]\n",
    "        else:\n",
    "            pass\n",
    "\n",
    "    #check if new date\n",
    "    if pd.notna(row[2]):\n",
    "        try:\n",
    "            current_date = pd.to_datetime(row[2])\n",
    "        except:\n",
    "            pass\n",
    "\n",
    "    #add entry\n",
    "    if pd.notna(row[6]):\n",
    "        agent_names.append(agent_name)\n",
    "        iex_numbers.append(iex_number)\n",
    "        current_dates.append(current_date)\n",
    "        pos_statuses.append(row[6])\n",
    "        start_times.append(row[7])\n",
    "        end_times.append(row[10])\n"
   ]
  },
  {
   "cell_type": "code",
   "execution_count": 1403,
   "id": "a0c93a14-a667-43ce-bf4a-da7702a19f0a",
   "metadata": {},
   "outputs": [],
   "source": [
    "dx = pd.DataFrame({'agent_names':agent_names,'iex_no':iex_numbers,'date':current_dates,'schedule':pos_statuses,'start_time':start_times,'end_time':end_times})"
   ]
  },
  {
   "cell_type": "code",
   "execution_count": 1406,
   "id": "151ff986-15bf-4507-acb3-c06cd41bad01",
   "metadata": {},
   "outputs": [],
   "source": [
    "dx.loc[dx.agent_names.str.contains('Puntero')].to_clipboard()"
   ]
  },
  {
   "cell_type": "code",
   "execution_count": null,
   "id": "b91bb015-1470-48df-a797-cc4815864d78",
   "metadata": {},
   "outputs": [],
   "source": []
  },
  {
   "cell_type": "markdown",
   "id": "0ed0b53f-809a-4cd6-9fdb-fab64412cbb6",
   "metadata": {},
   "source": [
    "#### match_agent"
   ]
  },
  {
   "cell_type": "code",
   "execution_count": 47,
   "id": "8824c690-c6ac-47d4-b29b-09701ce73d60",
   "metadata": {},
   "outputs": [],
   "source": [
    "name_key = {}"
   ]
  },
  {
   "cell_type": "code",
   "execution_count": 48,
   "id": "ab7f1e44-2b07-4855-8a2a-81893a67d699",
   "metadata": {},
   "outputs": [],
   "source": [
    "for agent in dx.agent_names.unique().tolist():\n",
    "    matches = process.extractOne(agent, names_list)\n",
    "    name_key[agent] = matches"
   ]
  },
  {
   "cell_type": "code",
   "execution_count": 52,
   "id": "ed6d88d3-12c6-40d5-8431-6c04545aa8f8",
   "metadata": {},
   "outputs": [],
   "source": [
    "name_df = pd.DataFrame(name_key).T\n",
    "name_df.columns = ['pos_name','match_score']"
   ]
  },
  {
   "cell_type": "code",
   "execution_count": 58,
   "id": "843708e8-6782-4216-ac02-a558caffd284",
   "metadata": {},
   "outputs": [],
   "source": [
    "name_df['positive_match'] = name_df.match_score.apply(lambda x: x > 86)"
   ]
  },
  {
   "cell_type": "code",
   "execution_count": 332,
   "id": "ea348a11-f34f-4a34-a031-2580b46db3f5",
   "metadata": {},
   "outputs": [],
   "source": [
    "def start_interval(date,start_time):\n",
    "    date_obj = datetime(date.year, date.month, date.day, start_time.hour, start_time.minute,start_time.second)\n",
    "    timestamp = pd.to_datetime(date_obj)\n",
    "    return timestamp\n",
    "\n",
    "\n"
   ]
  },
  {
   "cell_type": "code",
   "execution_count": 645,
   "id": "df5d8ee5-8ca1-437a-9f75-2e7cfd7c4e7c",
   "metadata": {},
   "outputs": [],
   "source": [
    "df1 = dx.copy()"
   ]
  },
  {
   "cell_type": "code",
   "execution_count": 646,
   "id": "55a0f7d7-3f1a-46d7-9030-4c27bda3899e",
   "metadata": {},
   "outputs": [],
   "source": [
    "df1 = pd.merge(df1,name_df.loc[name_df.positive_match,['pos_name']],left_on= 'agent_names', right_index=True,how='left')"
   ]
  },
  {
   "cell_type": "code",
   "execution_count": 647,
   "id": "04186ae7-7ea0-4f21-a879-12a0aae0d9de",
   "metadata": {},
   "outputs": [
    {
     "name": "stderr",
     "output_type": "stream",
     "text": [
      "/var/folders/q2/1vhx3pcx0h37hzlw8pvc0s380000gn/T/ipykernel_16441/341441131.py:1: UserWarning: Could not infer format, so each element will be parsed individually, falling back to `dateutil`. To ensure parsing is consistent and as-expected, please specify a format.\n",
      "  df1.start_time = pd.to_datetime(df1.start_time)\n",
      "/var/folders/q2/1vhx3pcx0h37hzlw8pvc0s380000gn/T/ipykernel_16441/341441131.py:2: UserWarning: Could not infer format, so each element will be parsed individually, falling back to `dateutil`. To ensure parsing is consistent and as-expected, please specify a format.\n",
      "  df1.end_time = pd.to_datetime(df1.end_time)\n"
     ]
    }
   ],
   "source": [
    "df1.start_time = pd.to_datetime(df1.start_time)\n",
    "df1.end_time = pd.to_datetime(df1.end_time)"
   ]
  },
  {
   "cell_type": "code",
   "execution_count": 648,
   "id": "a02f582e-c2a8-4760-a8c1-a7d75ec4373b",
   "metadata": {},
   "outputs": [],
   "source": [
    "df1['start_interval_sched'] = df1.apply(lambda row: start_interval(row.date,row.start_time),axis=1)\n",
    "df1['end_interval_sched'] = df1.apply(lambda row: start_interval(row.date,row.end_time),axis=1)"
   ]
  },
  {
   "cell_type": "markdown",
   "id": "1dd51877-7fd4-47e2-bc18-4c0b33c8a7bc",
   "metadata": {},
   "source": [
    "##### KEY"
   ]
  },
  {
   "cell_type": "markdown",
   "id": "70945c93-07fe-4030-9f57-6a18ed6ea22b",
   "metadata": {},
   "source": [
    "1.  Happy\n",
    "2.  Benefit of the doubt\n",
    "3. Working When you shouldn't be \n",
    "4.  Not Working when you should be \n",
    "5. working when you REALLY shouldn't be \n",
    "6. Overtime on break\n",
    "7. Unverified Overtime\n",
    "8. Happy not working\n",
    "99. Phone Time == Phone Time"
   ]
  },
  {
   "cell_type": "code",
   "execution_count": 970,
   "id": "fbdea6c0-61ae-41ac-857d-30df4fc7051f",
   "metadata": {},
   "outputs": [],
   "source": [
    "activity_matrix = {\n",
    "        \"Phone Time\": {\"Phone Time\": 99, \"Pullout\": 2, \"Other\": 2, \"Break\": 4, \"Restroom\": 4, \"Standby\": 4, \"Forced\": 4, \"Logout\": 4,\"Meeting\":2},\n",
    "        \"Pullout\": {\"Phone Time\": 98, \"Pullout\": 1, \"Other\": 1, \"Break\": 4, \"Restroom\": 4, \"Standby\": 2, \"Forced\": 4, \"Logout\": 4,\"Meeting\":2},\n",
    "        \"Overtime\": {\"Phone Time\": 97, \"Pullout\": 2, \"Other\": 2, \"Break\": 6, \"Restroom\": 6, \"Standby\": 2, \"Forced\": 6, \"Logout\": 6,\"Meeting\":2},\n",
    "        \"Rest Day Overtime\": {\"Phone Time\": 97, \"Pullout\": 2, \"Other\": 2, \"Break\": 6, \"Restroom\": 6, \"Standby\": 2, \"Forced\": 6, \"Logout\": 6,\"Meeting\":2},\n",
    "        \"Break\": {\"Phone Time\": 98, \"Pullout\": 3, \"Other\": 3, \"Break\": 8, \"Restroom\": 8, \"Standby\": 8, \"Forced\": 8, \"Logout\": 8, \"Meeting\":3},\n",
    "        \"Scheduled Off\": {\"Phone Time\": 7, \"Pullout\": 7, \"Other\": 7, \"Break\": 8, \"Restroom\": 8, \"Standby\": 8, \"Forced\": 8, \"Logout\": 8,\"Meeting\":5},\n",
    "        \"Paid Vacation Leave\": {\"Phone Time\": 5, \"Pullout\": 5, \"Other\": 5, \"Break\": 8, \"Restroom\": 8, \"Standby\": 8, \"Forced\":8, \"Logout\": 8,'Meeting':5},\n",
    "        \"Absent-Unpaid\": {\"Phone Time\": 5, \"Pullout\": 5, \"Other\": 5, \"Break\": 8, \"Restroom\": 8, \"Standby\": 8, \"Forced\": 8, \"Logout\": 8,\"Meeting\":5},\n",
    "    }"
   ]
  },
  {
   "cell_type": "code",
   "execution_count": 1410,
   "id": "3fd91eac-0cd2-45c8-aaff-8efb09af57ed",
   "metadata": {},
   "outputs": [],
   "source": [
    "pd.DataFrame(activity_matrix).to_clipboard()"
   ]
  },
  {
   "cell_type": "markdown",
   "id": "278a8138-7e01-40a3-b06e-5978828ba77b",
   "metadata": {},
   "source": [
    "#### from here, analyze per agent"
   ]
  },
  {
   "cell_type": "code",
   "execution_count": 916,
   "id": "458345c8-a677-42a8-ab2e-14a6f36128f7",
   "metadata": {},
   "outputs": [],
   "source": [
    "def create_scheduled_off(tdx):\n",
    "    scheduled_offs = []\n",
    "    for i,row in tdx.loc[tdx.time_between_sched > 0].iterrows():\n",
    "        row.end_interval_sched = row.start_interval_sched\n",
    "        row.start_interval_sched = row.last_end_interval_sched\n",
    "        row.pos_status = 'Scheduled Off'\n",
    "        scheduled_offs.append(row)\n",
    "    \n",
    "    return pd.DataFrame(scheduled_offs)"
   ]
  },
  {
   "cell_type": "code",
   "execution_count": 1011,
   "id": "f2aaa97b-260c-4889-b7bc-a5f15248093e",
   "metadata": {},
   "outputs": [],
   "source": [
    "def log_exceeds_schedule(dfdirty):\n",
    "    added_rows = []\n",
    "    for i,row in dfdirty.iloc[:].iterrows():\n",
    "        entry1 = row.copy()\n",
    "        entry1.end_interval_log = entry1.end_interval_sched\n",
    "        added_rows.append(entry1)\n",
    "        entry2 = row.copy()\n",
    "        entry2.start_interval_log = entry2.end_interval_sched\n",
    "        added_rows.append(entry2)\n",
    "\n",
    "    df_new = pd.DataFrame(added_rows)\n",
    "    return df_new\n"
   ]
  },
  {
   "cell_type": "code",
   "execution_count": 1028,
   "id": "105c3985-487d-485b-af2b-337c86679f83",
   "metadata": {},
   "outputs": [],
   "source": [
    "def fix_split_interval(tdf,tdx):\n",
    "    tdf1 = pd.merge_asof(tdf.sort_values(by='start_interval_log',ascending=True),tdx.sort_values(by='start_interval_sched',ascending=True),\n",
    "    left_on='start_interval_log', right_on='start_interval_sched',suffixes=('_log', '_sched'), direction='backward')\n",
    "    tdf1 = tdf1[['name','team_name','type','schedule','pos_status','start_interval_log','end_interval_log','start_interval_sched','end_interval_sched']]\n",
    "    tdf1['end_surpass'] = tdf1.end_interval_sched < tdf1.end_interval_log\n",
    "    dfclean = tdf1.loc[(tdf1.end_surpass == False) & (~pd.isna(tdf1.schedule))]\n",
    "    dfdirty = tdf1.loc[tdf1.end_surpass]\n",
    "    \n",
    "    for i in [1,2,3]:\n",
    "        df_new = log_exceeds_schedule(dfdirty)\n",
    "        df_new['end_surpass'] = df_new.end_interval_sched < df_new.end_interval_log\n",
    "        df_new['end_surpass'] = df_new.end_interval_sched < df_new.end_interval_log\n",
    "        dfclean = pd.concat([dfclean,df_new.loc[df_new.end_surpass==False]])\n",
    "        dfdirty = df_new.loc[df_new.end_surpass]\n",
    "\n",
    "    dfclean['activity_type'] = dfclean.apply(lambda row: activity_matrix.get(row.schedule).get(row['pos_status']),axis=1)\n",
    "    dfclean['mins'] = [round(x.seconds / 60,2)  for x in dfclean.end_interval_log - dfclean.start_interval_log]\n",
    "    return dfclean"
   ]
  },
  {
   "cell_type": "code",
   "execution_count": 1110,
   "id": "04df286b-39d1-4bc4-8dcd-c43c0cc9c424",
   "metadata": {},
   "outputs": [],
   "source": [
    "def create_agent_timesheet(agent_name,df=df):\n",
    "    tdx = df1.loc[df1.agent_names == agent]\n",
    "    tdx = tdx.sort_values(by='start_interval_sched').reset_index(drop=True)\n",
    "    tdx['last_end_interval_sched']  = tdx['end_interval_sched'].shift(1)\n",
    "    tdx['time_between_sched'] = [x.seconds / 60 / 60 for x in tdx.start_interval_sched - tdx['end_interval_sched'].shift(1) ]\n",
    "    offs = create_scheduled_off(tdx)\n",
    "    tdx = pd.concat([tdx,offs])\n",
    "    tdx = tdx.sort_values(by='start_interval_sched',ascending=True)\n",
    "\n",
    "    \n",
    "    tdf = df.loc[df.name == agent_name]\n",
    "    dfclean  =  fix_split_interval(tdf,tdx)\n",
    "    return dfclean"
   ]
  },
  {
   "cell_type": "code",
   "execution_count": 1080,
   "id": "af3255c7-7b7f-4997-bdc0-cbfbd11ec22f",
   "metadata": {},
   "outputs": [],
   "source": [
    "create_agent_timesheet(\"Ron Loyola\",df).to_clipboard()"
   ]
  },
  {
   "cell_type": "code",
   "execution_count": 1085,
   "id": "7171decb-7f19-45b8-9e01-20a3d7087bfa",
   "metadata": {},
   "outputs": [],
   "source": [
    "dx.loc[dx.agent_names == \"Loyola, Ron\"].to_clipboard()"
   ]
  },
  {
   "cell_type": "code",
   "execution_count": 1000,
   "id": "e8d75e36-94df-4d27-a2d7-80819b478728",
   "metadata": {},
   "outputs": [
    {
     "data": {
      "text/html": [
       "<div>\n",
       "<style scoped>\n",
       "    .dataframe tbody tr th:only-of-type {\n",
       "        vertical-align: middle;\n",
       "    }\n",
       "\n",
       "    .dataframe tbody tr th {\n",
       "        vertical-align: top;\n",
       "    }\n",
       "\n",
       "    .dataframe thead th {\n",
       "        text-align: right;\n",
       "    }\n",
       "</style>\n",
       "<table border=\"1\" class=\"dataframe\">\n",
       "  <thead>\n",
       "    <tr style=\"text-align: right;\">\n",
       "      <th></th>\n",
       "      <th>username</th>\n",
       "      <th>team_name</th>\n",
       "      <th>name</th>\n",
       "      <th>type</th>\n",
       "      <th>start_interval_log</th>\n",
       "      <th>end_interval_log</th>\n",
       "      <th>pos_status</th>\n",
       "    </tr>\n",
       "  </thead>\n",
       "  <tbody>\n",
       "    <tr>\n",
       "      <th>12044</th>\n",
       "      <td>ronloyola</td>\n",
       "      <td>Murfreesboro</td>\n",
       "      <td>Ron Loyola</td>\n",
       "      <td>off</td>\n",
       "      <td>2024-03-01 14:30:20</td>\n",
       "      <td>2024-03-01 14:30:41</td>\n",
       "      <td>Other</td>\n",
       "    </tr>\n",
       "    <tr>\n",
       "      <th>12065</th>\n",
       "      <td>ronloyola</td>\n",
       "      <td>Murfreesboro</td>\n",
       "      <td>Ron Loyola</td>\n",
       "      <td>on</td>\n",
       "      <td>2024-03-01 14:30:41</td>\n",
       "      <td>2024-03-01 15:15:01</td>\n",
       "      <td>Phone Time</td>\n",
       "    </tr>\n",
       "    <tr>\n",
       "      <th>14249</th>\n",
       "      <td>ronloyola</td>\n",
       "      <td>Murfreesboro</td>\n",
       "      <td>Ron Loyola</td>\n",
       "      <td>off</td>\n",
       "      <td>2024-03-01 15:15:01</td>\n",
       "      <td>2024-03-01 16:00:20</td>\n",
       "      <td>Break</td>\n",
       "    </tr>\n",
       "    <tr>\n",
       "      <th>16913</th>\n",
       "      <td>ronloyola</td>\n",
       "      <td>Murfreesboro</td>\n",
       "      <td>Ron Loyola</td>\n",
       "      <td>on</td>\n",
       "      <td>2024-03-01 16:00:20</td>\n",
       "      <td>2024-03-01 16:07:40</td>\n",
       "      <td>Phone Time</td>\n",
       "    </tr>\n",
       "    <tr>\n",
       "      <th>17380</th>\n",
       "      <td>ronloyola</td>\n",
       "      <td>Murfreesboro</td>\n",
       "      <td>Ron Loyola</td>\n",
       "      <td>off</td>\n",
       "      <td>2024-03-01 16:07:40</td>\n",
       "      <td>2024-03-01 16:09:12</td>\n",
       "      <td>Restroom</td>\n",
       "    </tr>\n",
       "    <tr>\n",
       "      <th>...</th>\n",
       "      <td>...</td>\n",
       "      <td>...</td>\n",
       "      <td>...</td>\n",
       "      <td>...</td>\n",
       "      <td>...</td>\n",
       "      <td>...</td>\n",
       "      <td>...</td>\n",
       "    </tr>\n",
       "    <tr>\n",
       "      <th>859890</th>\n",
       "      <td>ronloyola</td>\n",
       "      <td>Murfreesboro</td>\n",
       "      <td>Ron Loyola</td>\n",
       "      <td>off</td>\n",
       "      <td>2024-03-18 17:48:11</td>\n",
       "      <td>2024-03-18 18:03:58</td>\n",
       "      <td>Break</td>\n",
       "    </tr>\n",
       "    <tr>\n",
       "      <th>860595</th>\n",
       "      <td>ronloyola</td>\n",
       "      <td>Murfreesboro</td>\n",
       "      <td>Ron Loyola</td>\n",
       "      <td>on</td>\n",
       "      <td>2024-03-18 18:03:58</td>\n",
       "      <td>2024-03-18 20:46:05</td>\n",
       "      <td>Phone Time</td>\n",
       "    </tr>\n",
       "    <tr>\n",
       "      <th>867668</th>\n",
       "      <td>ronloyola</td>\n",
       "      <td>Murfreesboro</td>\n",
       "      <td>Ron Loyola</td>\n",
       "      <td>off</td>\n",
       "      <td>2024-03-18 20:46:05</td>\n",
       "      <td>2024-03-18 21:01:33</td>\n",
       "      <td>Break</td>\n",
       "    </tr>\n",
       "    <tr>\n",
       "      <th>868335</th>\n",
       "      <td>ronloyola</td>\n",
       "      <td>Murfreesboro</td>\n",
       "      <td>Ron Loyola</td>\n",
       "      <td>on</td>\n",
       "      <td>2024-03-18 21:01:33</td>\n",
       "      <td>2024-03-18 22:00:02</td>\n",
       "      <td>Phone Time</td>\n",
       "    </tr>\n",
       "    <tr>\n",
       "      <th>870499</th>\n",
       "      <td>ronloyola</td>\n",
       "      <td>Murfreesboro</td>\n",
       "      <td>Ron Loyola</td>\n",
       "      <td>off</td>\n",
       "      <td>2024-03-18 22:00:02</td>\n",
       "      <td>2024-03-18 22:00:40</td>\n",
       "      <td>Standby</td>\n",
       "    </tr>\n",
       "  </tbody>\n",
       "</table>\n",
       "<p>208 rows × 7 columns</p>\n",
       "</div>"
      ],
      "text/plain": [
       "         username     team_name        name type  start_interval_log  \\\n",
       "12044   ronloyola  Murfreesboro  Ron Loyola  off 2024-03-01 14:30:20   \n",
       "12065   ronloyola  Murfreesboro  Ron Loyola   on 2024-03-01 14:30:41   \n",
       "14249   ronloyola  Murfreesboro  Ron Loyola  off 2024-03-01 15:15:01   \n",
       "16913   ronloyola  Murfreesboro  Ron Loyola   on 2024-03-01 16:00:20   \n",
       "17380   ronloyola  Murfreesboro  Ron Loyola  off 2024-03-01 16:07:40   \n",
       "...           ...           ...         ...  ...                 ...   \n",
       "859890  ronloyola  Murfreesboro  Ron Loyola  off 2024-03-18 17:48:11   \n",
       "860595  ronloyola  Murfreesboro  Ron Loyola   on 2024-03-18 18:03:58   \n",
       "867668  ronloyola  Murfreesboro  Ron Loyola  off 2024-03-18 20:46:05   \n",
       "868335  ronloyola  Murfreesboro  Ron Loyola   on 2024-03-18 21:01:33   \n",
       "870499  ronloyola  Murfreesboro  Ron Loyola  off 2024-03-18 22:00:02   \n",
       "\n",
       "          end_interval_log  pos_status  \n",
       "12044  2024-03-01 14:30:41       Other  \n",
       "12065  2024-03-01 15:15:01  Phone Time  \n",
       "14249  2024-03-01 16:00:20       Break  \n",
       "16913  2024-03-01 16:07:40  Phone Time  \n",
       "17380  2024-03-01 16:09:12    Restroom  \n",
       "...                    ...         ...  \n",
       "859890 2024-03-18 18:03:58       Break  \n",
       "860595 2024-03-18 20:46:05  Phone Time  \n",
       "867668 2024-03-18 21:01:33       Break  \n",
       "868335 2024-03-18 22:00:02  Phone Time  \n",
       "870499 2024-03-18 22:00:40     Standby  \n",
       "\n",
       "[208 rows x 7 columns]"
      ]
     },
     "execution_count": 1000,
     "metadata": {},
     "output_type": "execute_result"
    }
   ],
   "source": [
    "df.loc[df.name == \"Ron Loyola\"]"
   ]
  },
  {
   "cell_type": "code",
   "execution_count": 1094,
   "id": "d7bd3216-d75a-4547-8ef6-2f36630fbb55",
   "metadata": {},
   "outputs": [],
   "source": [
    "df = df.loc[df.start_interval_log < '2024-03-17']"
   ]
  },
  {
   "cell_type": "code",
   "execution_count": 1166,
   "id": "e2f85ced-d342-4187-b4f1-309bc34233ab",
   "metadata": {},
   "outputs": [],
   "source": [
    "agent_list = df1.groupby(['pos_name','agent_names']).first().index.tolist()"
   ]
  },
  {
   "cell_type": "code",
   "execution_count": 1179,
   "id": "b0de977d-68b4-4b13-888a-99f10c50dc03",
   "metadata": {},
   "outputs": [],
   "source": [
    "total_df = pd.DataFrame()"
   ]
  },
  {
   "cell_type": "code",
   "execution_count": 1180,
   "id": "4b97dc84-75d0-4750-86f6-347b65e46736",
   "metadata": {},
   "outputs": [
    {
     "name": "stdout",
     "output_type": "stream",
     "text": [
      "woops AR Abdulazeez\n",
      "woops Ailin Li\n",
      "woops Alexis Jara\n",
      "woops Amado Padron\n",
      "woops Andrea Luna\n",
      "woops Angela Loyola Online\n",
      "woops Arnel Terio\n",
      "woops Bev Lozanes\n",
      "woops Bobby Thai\n",
      "woops Carl Perez\n",
      "woops Charm Cabrillos\n",
      "woops Charmaine Saguran\n",
      "woops Christian Obando\n",
      "woops Cindy Singson\n",
      "woops Claire Refe\n",
      "woops Coleen Yucor\n",
      "woops Crystel Layoso\n",
      "woops Dan Umandal\n",
      "woops David  Dreyfus\n",
      "woops Dragones Bungcasan\n",
      "woops Ethan Cai\n",
      "woops Fil Bangsal\n",
      "woops Hernan Valdez\n",
      "woops Irene Alo\n",
      "woops Isaac Perez\n",
      "woops Ivy Chiong\n",
      "woops Jane Kilapkilap\n",
      "woops Jay Penaflor\n",
      "woops Jayson Zanarias\n",
      "woops Jc Perez\n",
      "woops Jennifer Aguila\n",
      "woops Jeram Sebuco\n",
      "woops Jessica Aye\n",
      "woops Jiaxin Chen\n",
      "woops Jim Santiano\n",
      "woops Joe Moriarty\n",
      "woops Joey Xiao\n",
      "woops John Mirasol\n",
      "woops John Perez\n",
      "woops John Villaruel\n",
      "woops Jonna Ocampo Online\n",
      "woops Joy Lin\n",
      "woops June Sisican\n",
      "woops Juver Voluntad\n",
      "woops Karol Gomez\n",
      "woops Kevin Diaz\n",
      "woops Krisha Torres\n",
      "woops Liz Delfin\n",
      "woops Lu Li\n",
      "woops Ly Tibunsay\n",
      "woops MJ Camasis\n",
      "woops Manuel Jimenez\n",
      "woops Marc Sustento\n",
      "woops Marco Paolo Tarog\n",
      "woops Mari Morquida\n",
      "woops Mark Mangalo\n",
      "woops Mark Mauricio\n",
      "woops Mark Tatac\n",
      "woops Meghan Li\n",
      "woops Meybis Sanchez\n",
      "woops Mohammed Islam\n",
      "woops Monette Pengson\n",
      "woops Nea Torres\n",
      "woops Nicole Nunez\n",
      "woops Nikko Asi\n",
      "woops Nitin Viswanathan\n",
      "woops Olivia Yu\n",
      "woops Phanie Aguilar\n",
      "woops Rain Mira\n",
      "woops Raymart Acosta\n",
      "woops Renalee Vinluan\n",
      "woops Rey Sapuan\n",
      "woops Ricky Chen\n",
      "woops Roderick Nepomuceno\n",
      "woops Rog Elmenzo\n",
      "woops Ronnie Macatangay\n",
      "woops Rox Marcos\n",
      "woops Sarah Borromeo\n",
      "woops Saul Medrano\n",
      "woops Sean Oxley\n",
      "woops Shaira May\n",
      "woops Starling Alcantara\n",
      "woops Trix Grefalda\n"
     ]
    }
   ],
   "source": [
    "for a in agent_list[:]:\n",
    "    if len(df.loc[df.name == a[0]]) < 1:\n",
    "        not_working.append(a[0])\n",
    "        print('woops {}'.format(a[0]))\n",
    "        continue\n",
    "    try:\n",
    "        total_df = pd.concat([total_df,create_agent_timesheet(a[0])])\n",
    "    except:\n",
    "        not_working.append(a)"
   ]
  },
  {
   "cell_type": "code",
   "execution_count": 1183,
   "id": "ad698d67-df05-4fd6-9471-c0afcdcb5faf",
   "metadata": {},
   "outputs": [
    {
     "data": {
      "text/plain": [
       "activity_type\n",
       "1.0     0.000494\n",
       "2.0     0.106349\n",
       "3.0     0.009035\n",
       "4.0     0.198173\n",
       "5.0     0.139305\n",
       "8.0     0.069860\n",
       "98.0    0.030675\n",
       "99.0    0.446109\n",
       "Name: mins, dtype: float64"
      ]
     },
     "execution_count": 1183,
     "metadata": {},
     "output_type": "execute_result"
    }
   ],
   "source": [
    "total_df.groupby(['activity_type'])['mins'].sum() /total_df.groupby(['activity_type'])['mins'].sum().sum()"
   ]
  },
  {
   "cell_type": "code",
   "execution_count": null,
   "id": "4b53257d-c2f2-42e3-9241-331d9c03bbd4",
   "metadata": {},
   "outputs": [],
   "source": [
    "total_df = total_df.loc[~total_df.team_name.isin(remove_team)]"
   ]
  },
  {
   "cell_type": "code",
   "execution_count": 1186,
   "id": "347d7fdf-680b-42a6-9fe4-794219488617",
   "metadata": {},
   "outputs": [],
   "source": [
    "total_df.groupby(['name','team_name','activity_type'])[['mins']].sum().to_clipboard()"
   ]
  },
  {
   "cell_type": "code",
   "execution_count": 1189,
   "id": "829a0400-c48f-4d63-9470-cbb86e08da7e",
   "metadata": {},
   "outputs": [],
   "source": [
    "total_df.loc[total_df.name == 'Cath Acebuche'].to_clipboard()"
   ]
  },
  {
   "cell_type": "code",
   "execution_count": 1205,
   "id": "bc73802f-87bf-4dca-909f-a6a8e5dc3c19",
   "metadata": {},
   "outputs": [
    {
     "data": {
      "text/plain": [
       "1120"
      ]
     },
     "execution_count": 1205,
     "metadata": {},
     "output_type": "execute_result"
    }
   ],
   "source": [
    "len(total_df.name.unique())"
   ]
  },
  {
   "cell_type": "code",
   "execution_count": 1391,
   "id": "f73c9fc8-6566-4d1a-a93f-d2ae1cc0679d",
   "metadata": {},
   "outputs": [],
   "source": [
    "total_df.loc[total_df.name.str.contains(\"Puntero\")].to_clipboard()"
   ]
  },
  {
   "cell_type": "code",
   "execution_count": null,
   "id": "40b2227a-4232-4d70-bb85-5c1572d072bc",
   "metadata": {},
   "outputs": [],
   "source": []
  },
  {
   "cell_type": "code",
   "execution_count": null,
   "id": "07863247-7ef5-4bb9-8e1a-3331c22056e3",
   "metadata": {},
   "outputs": [],
   "source": []
  },
  {
   "cell_type": "code",
   "execution_count": null,
   "id": "748c6e39-335f-443e-87bc-a220c7879720",
   "metadata": {},
   "outputs": [],
   "source": [
    "# Agents Scheduled for Phone Time\n",
    "# Agents On Phone Time \n"
   ]
  },
  {
   "cell_type": "code",
   "execution_count": 1356,
   "id": "b6fb59e7-e480-41a1-80d4-9aafd19b61c6",
   "metadata": {},
   "outputs": [],
   "source": [
    "check_time = '2024-03-08 16:45'"
   ]
  },
  {
   "cell_type": "code",
   "execution_count": 1360,
   "id": "dec3d529-1f52-4797-b14f-36f8a2c0b247",
   "metadata": {},
   "outputs": [],
   "source": [
    "    cri_a = total_df.start_interval_sched < check_time \n",
    "    cri_b = total_df.end_interval_sched > check_time \n",
    "    cri_status = total_df.schedule == 'Phone Time'"
   ]
  },
  {
   "cell_type": "code",
   "execution_count": 1367,
   "id": "7d5ed4b5-690a-4076-ad6e-4d4e8dd361bb",
   "metadata": {},
   "outputs": [],
   "source": [
    "def check_phone_time(check_time):\n",
    "    cri_a = total_df.start_interval_log < check_time \n",
    "    cri_b = total_df.end_interval_log > check_time \n",
    "    cri_status = total_df.pos_status == 'Phone Time'\n",
    "    phone_time = len(total_df.loc[cri_a & cri_b & cri_status])\n",
    "    \n",
    "    cri_a = total_df.start_interval_sched < check_time \n",
    "    cri_b = total_df.end_interval_sched > check_time \n",
    "    cri_status = total_df.schedule == 'Phone Time'\n",
    "    sched_time = len(total_df.loc[cri_a & cri_b & cri_status].name.unique())\n",
    "    return (phone_time, sched_time)\n",
    "\n",
    "\n",
    "\n",
    "\n",
    "def check_phone_time_roster(check_time):\n",
    "    cri_a = total_df.start_interval_log < check_time \n",
    "    cri_b = total_df.end_interval_log > check_time \n",
    "    \n",
    "    cri_scheduled = total_df.schedule == 'Phone Time'\n",
    "    cri_status = total_df.pos_status == 'Phone Time'\n",
    "\n",
    "    return (total_df.loc[cri_a & cri_b & cri_status],total_df.loc[cri_a & cri_b & cri_scheduled])"
   ]
  },
  {
   "cell_type": "code",
   "execution_count": 1377,
   "id": "4e164897-07fd-41ab-adda-efbe3507ce15",
   "metadata": {},
   "outputs": [
    {
     "data": {
      "text/plain": [
       "(0, 0)"
      ]
     },
     "execution_count": 1377,
     "metadata": {},
     "output_type": "execute_result"
    }
   ],
   "source": [
    "check_phone_time('2024-03-01 10:30:00')"
   ]
  },
  {
   "cell_type": "code",
   "execution_count": 1378,
   "id": "58aedcec-b5b5-42b9-afc6-29f73b4b41a9",
   "metadata": {},
   "outputs": [
    {
     "name": "stdout",
     "output_type": "stream",
     "text": [
      "DatetimeIndex(['2024-03-08 10:30:00', '2024-03-08 10:35:00',\n",
      "               '2024-03-08 10:40:00', '2024-03-08 10:45:00',\n",
      "               '2024-03-08 10:50:00', '2024-03-08 10:55:00',\n",
      "               '2024-03-08 11:00:00', '2024-03-08 11:05:00',\n",
      "               '2024-03-08 11:10:00', '2024-03-08 11:15:00',\n",
      "               ...\n",
      "               '2024-03-25 18:20:00', '2024-03-25 18:25:00',\n",
      "               '2024-03-25 18:30:00', '2024-03-25 18:35:00',\n",
      "               '2024-03-25 18:40:00', '2024-03-25 18:45:00',\n",
      "               '2024-03-25 18:50:00', '2024-03-25 18:55:00',\n",
      "               '2024-03-25 19:00:00', '2024-03-25 19:05:00'],\n",
      "              dtype='datetime64[ns]', length=5000, freq='5min')\n"
     ]
    },
    {
     "name": "stderr",
     "output_type": "stream",
     "text": [
      "/var/folders/q2/1vhx3pcx0h37hzlw8pvc0s380000gn/T/ipykernel_16441/1183041946.py:7: FutureWarning: 'T' is deprecated and will be removed in a future version, please use 'min' instead.\n",
      "  date_series = pd.date_range(start=start_datetime, periods=5000, freq='5T')\n"
     ]
    }
   ],
   "source": [
    "import pandas as pd\n",
    "\n",
    "# Define start date and time\n",
    "start_datetime = '2024-03-08 10:30'\n",
    "\n",
    "# Create a DatetimeIndex starting from start_datetime with a frequency of every 5 minutes\n",
    "date_series = pd.date_range(start=start_datetime, periods=5000, freq='5T')\n",
    "\n",
    "print(date_series)\n"
   ]
  },
  {
   "cell_type": "code",
   "execution_count": 1379,
   "id": "4bb3c935-4c89-4bc4-8bc0-86e34d52354c",
   "metadata": {},
   "outputs": [],
   "source": [
    "dfc = pd.DataFrame(date_series)"
   ]
  },
  {
   "cell_type": "code",
   "execution_count": 1380,
   "id": "a3eeddf1-b6c0-4800-9a19-4e5221afd96f",
   "metadata": {},
   "outputs": [],
   "source": [
    "res = []"
   ]
  },
  {
   "cell_type": "code",
   "execution_count": 1381,
   "id": "060cfdbd-580b-4709-b9d6-786b79742144",
   "metadata": {},
   "outputs": [],
   "source": [
    "for i in dfc[0].tolist():\n",
    "    res.append(check_phone_time(i))"
   ]
  },
  {
   "cell_type": "code",
   "execution_count": 1382,
   "id": "6c330314-b802-486e-a830-2e97bc8adad5",
   "metadata": {},
   "outputs": [],
   "source": [
    "dfc['on_phone'] = [x[0] for x in res]\n",
    "dfc['scheduled'] = [x[1] for x in res]"
   ]
  },
  {
   "cell_type": "code",
   "execution_count": 1385,
   "id": "1856bb7a-93ec-4d13-b7b0-c0bac96a0deb",
   "metadata": {},
   "outputs": [
    {
     "data": {
      "text/html": [
       "<div>\n",
       "<style scoped>\n",
       "    .dataframe tbody tr th:only-of-type {\n",
       "        vertical-align: middle;\n",
       "    }\n",
       "\n",
       "    .dataframe tbody tr th {\n",
       "        vertical-align: top;\n",
       "    }\n",
       "\n",
       "    .dataframe thead th {\n",
       "        text-align: right;\n",
       "    }\n",
       "</style>\n",
       "<table border=\"1\" class=\"dataframe\">\n",
       "  <thead>\n",
       "    <tr style=\"text-align: right;\">\n",
       "      <th></th>\n",
       "      <th>0</th>\n",
       "      <th>on_phone</th>\n",
       "      <th>scheduled</th>\n",
       "    </tr>\n",
       "  </thead>\n",
       "  <tbody>\n",
       "    <tr>\n",
       "      <th>0</th>\n",
       "      <td>2024-03-08 10:30:00</td>\n",
       "      <td>0</td>\n",
       "      <td>0</td>\n",
       "    </tr>\n",
       "    <tr>\n",
       "      <th>1</th>\n",
       "      <td>2024-03-08 10:35:00</td>\n",
       "      <td>62</td>\n",
       "      <td>438</td>\n",
       "    </tr>\n",
       "    <tr>\n",
       "      <th>2</th>\n",
       "      <td>2024-03-08 10:40:00</td>\n",
       "      <td>62</td>\n",
       "      <td>438</td>\n",
       "    </tr>\n",
       "    <tr>\n",
       "      <th>3</th>\n",
       "      <td>2024-03-08 10:45:00</td>\n",
       "      <td>66</td>\n",
       "      <td>438</td>\n",
       "    </tr>\n",
       "    <tr>\n",
       "      <th>4</th>\n",
       "      <td>2024-03-08 10:50:00</td>\n",
       "      <td>123</td>\n",
       "      <td>438</td>\n",
       "    </tr>\n",
       "    <tr>\n",
       "      <th>...</th>\n",
       "      <td>...</td>\n",
       "      <td>...</td>\n",
       "      <td>...</td>\n",
       "    </tr>\n",
       "    <tr>\n",
       "      <th>4995</th>\n",
       "      <td>2024-03-25 18:45:00</td>\n",
       "      <td>0</td>\n",
       "      <td>0</td>\n",
       "    </tr>\n",
       "    <tr>\n",
       "      <th>4996</th>\n",
       "      <td>2024-03-25 18:50:00</td>\n",
       "      <td>0</td>\n",
       "      <td>0</td>\n",
       "    </tr>\n",
       "    <tr>\n",
       "      <th>4997</th>\n",
       "      <td>2024-03-25 18:55:00</td>\n",
       "      <td>0</td>\n",
       "      <td>0</td>\n",
       "    </tr>\n",
       "    <tr>\n",
       "      <th>4998</th>\n",
       "      <td>2024-03-25 19:00:00</td>\n",
       "      <td>0</td>\n",
       "      <td>0</td>\n",
       "    </tr>\n",
       "    <tr>\n",
       "      <th>4999</th>\n",
       "      <td>2024-03-25 19:05:00</td>\n",
       "      <td>0</td>\n",
       "      <td>0</td>\n",
       "    </tr>\n",
       "  </tbody>\n",
       "</table>\n",
       "<p>5000 rows × 3 columns</p>\n",
       "</div>"
      ],
      "text/plain": [
       "                       0  on_phone  scheduled\n",
       "0    2024-03-08 10:30:00         0          0\n",
       "1    2024-03-08 10:35:00        62        438\n",
       "2    2024-03-08 10:40:00        62        438\n",
       "3    2024-03-08 10:45:00        66        438\n",
       "4    2024-03-08 10:50:00       123        438\n",
       "...                  ...       ...        ...\n",
       "4995 2024-03-25 18:45:00         0          0\n",
       "4996 2024-03-25 18:50:00         0          0\n",
       "4997 2024-03-25 18:55:00         0          0\n",
       "4998 2024-03-25 19:00:00         0          0\n",
       "4999 2024-03-25 19:05:00         0          0\n",
       "\n",
       "[5000 rows x 3 columns]"
      ]
     },
     "execution_count": 1385,
     "metadata": {},
     "output_type": "execute_result"
    }
   ],
   "source": [
    "dfc"
   ]
  },
  {
   "cell_type": "code",
   "execution_count": 1386,
   "id": "c99b230e-bac6-4601-9067-888cbba19f1d",
   "metadata": {},
   "outputs": [],
   "source": [
    "dfc.to_clipboard()"
   ]
  },
  {
   "cell_type": "code",
   "execution_count": null,
   "id": "179e89ac-3d91-4a6a-a209-369bffc463e4",
   "metadata": {},
   "outputs": [],
   "source": []
  },
  {
   "cell_type": "code",
   "execution_count": null,
   "id": "67f8d341-4d11-4482-be19-3ca12d55a046",
   "metadata": {},
   "outputs": [],
   "source": []
  },
  {
   "cell_type": "code",
   "execution_count": null,
   "id": "dc760f34-7edb-49ef-b866-0e56ac62ad43",
   "metadata": {},
   "outputs": [],
   "source": []
  },
  {
   "cell_type": "code",
   "execution_count": null,
   "id": "a999d8ba-6bae-4010-b0a3-691329aa4d36",
   "metadata": {},
   "outputs": [],
   "source": []
  },
  {
   "cell_type": "code",
   "execution_count": 1291,
   "id": "a28b83b1-baa9-446f-b9c7-d27d92a91e85",
   "metadata": {},
   "outputs": [],
   "source": [
    "total_df.loc[total_df.name == 'Jun Reyes'].to_clipboard()"
   ]
  },
  {
   "cell_type": "code",
   "execution_count": 126,
   "id": "4e9e54ad-2667-4861-a02d-a5fc922adf31",
   "metadata": {},
   "outputs": [],
   "source": [
    "tdx = df1.loc[df1.agent_names == agent]\n",
    "tdx = tdx.sort_values(by='start_interval_sched').reset_index(drop=True)\n",
    "tdx['last_end_interval_sched']  = tdx['end_interval_sched'].shift(1)\n",
    "tdx['time_between_sched'] = [x.seconds / 60 / 60 for x in tdx.start_interval_sched - tdx['end_interval_sched'].shift(1) ]\n"
   ]
  },
  {
   "cell_type": "code",
   "execution_count": 205,
   "id": "0da74d3b-9fc5-4dfe-9cbf-dc10cab7fed1",
   "metadata": {},
   "outputs": [],
   "source": [
    "tdf = df.loc[df.name == agent_pos_key]"
   ]
  },
  {
   "cell_type": "markdown",
   "id": "fbcc92f7-93e3-4016-8489-5b427ee5c0ee",
   "metadata": {},
   "source": [
    "#### create SCHEDULED_OFF "
   ]
  },
  {
   "cell_type": "code",
   "execution_count": 206,
   "id": "1fb32b4d-7633-4123-bb67-4a79f689c77e",
   "metadata": {},
   "outputs": [
    {
     "data": {
      "text/plain": [
       "['Phone Time', 'Break', 'Scheduled Off', 'Absent-Unpaid', 'Pullout']"
      ]
     },
     "execution_count": 206,
     "metadata": {},
     "output_type": "execute_result"
    }
   ],
   "source": [
    "tdx.pos_status.unique().tolist()"
   ]
  },
  {
   "cell_type": "code",
   "execution_count": 275,
   "id": "c92be4e8-b9ae-4fd8-bd49-24a3473abb66",
   "metadata": {},
   "outputs": [],
   "source": [
    "def log_exceeds_schedule(dfdirty):\n",
    "    added_rows = []\n",
    "    for i,row in dfdirty.iloc[:].iterrows():\n",
    "        entry1 = row.copy()\n",
    "        entry1.end_interval_log = entry1.end_interval_sched\n",
    "        added_rows.append(entry1)\n",
    "        entry2 = row.copy()\n",
    "        entry2.start_interval_log = entry2.end_interval_sched\n",
    "        added_rows.append(entry2)\n",
    "\n",
    "    df_new = pd.DataFrame(added_rows)[['name','uid','type','reason.1','start_interval_log','end_interval_log']]\n",
    "    return df_new\n"
   ]
  },
  {
   "cell_type": "code",
   "execution_count": 276,
   "id": "509168c5-92cb-424e-869e-3731d0637181",
   "metadata": {},
   "outputs": [],
   "source": [
    "def fix_split_interval():\n",
    "    tdf1 = pd.merge_asof(tdf.sort_values(by='start_interval_log',ascending=True),tdx.sort_values(by='start_interval_sched',ascending=True),\n",
    "    left_on='start_interval_log', right_on='start_interval_sched',suffixes=('_log', '_sched'), direction='backward')\n",
    "    tdf1 = tdf1[['name','uid','type','reason.1','pos_status','start_interval_log','end_interval_log','start_interval_sched','end_interval_sched']]\n",
    "    tdf1['end_surpass'] = tdf1.end_interval_sched < tdf1.end_interval_log\n",
    "    dfclean = tdf1.loc[(tdf1.end_surpass == False) & (~pd.isna(tdf1.pos_status))]\n",
    "\n",
    "    dfdirty = tdf1.loc[tdf1.end_surpass]\n",
    "    for i in [1,2,3]:\n",
    "        df_new = log_exceeds_schedule(dfdirty)\n",
    "        dfclean = pd.concat([dfclean,df_new.loc[df_new.end_surpass==False]])\n",
    "        dfdirty = df_new.loc[df_new.end_surpass]\n",
    "\n",
    "    dfclean['activity_type'] = dfclean.apply(lambda row: activity_matrix.get(row.pos_status).get(row['reason.1']),axis=1)\n",
    "    dfclean['mins'] = [round(x.seconds / 60,2)  for x in dfclean.end_interval_log - dfclean.start_interval_log]\n",
    "    dfclean[['name','reason.1','start_interval_log','end_interval_log','pos_status','start_interval_sched','end_interval_sched','mins','activity_type']].to_clipboard(index=False)\n",
    "\n",
    "    return dfclean"
   ]
  },
  {
   "cell_type": "code",
   "execution_count": null,
   "id": "92a205c0-9734-44aa-a0c2-75b7f09f793e",
   "metadata": {},
   "outputs": [],
   "source": []
  },
  {
   "cell_type": "code",
   "execution_count": null,
   "id": "839531c9-157e-4fde-8e9f-d0fc815ffcac",
   "metadata": {},
   "outputs": [],
   "source": []
  },
  {
   "cell_type": "markdown",
   "id": "923e05f5-a612-4d4d-8a39-aa10dc0ab28b",
   "metadata": {},
   "source": [
    "#### find split Interval"
   ]
  },
  {
   "cell_type": "code",
   "execution_count": 214,
   "id": "111656b2-38c4-470d-9cc6-92f5352044a8",
   "metadata": {},
   "outputs": [],
   "source": [
    "tdf1 = pd.merge_asof(tdf.sort_values(by='start_interval_log',ascending=True),tdx.sort_values(by='start_interval_sched',ascending=True),\n",
    "    left_on='start_interval_log', \n",
    "    right_on='start_interval_sched',\n",
    "    suffixes=('_log', '_sched'), \n",
    "    direction='backward'\n",
    ")"
   ]
  },
  {
   "cell_type": "code",
   "execution_count": 215,
   "id": "514cbe53-da7e-4e02-a1b8-52e3c2e9c5ac",
   "metadata": {},
   "outputs": [],
   "source": [
    "tdf1 = tdf1[['name','uid','type','reason.1','pos_status','start_interval_log','end_interval_log','start_interval_sched','end_interval_sched']]"
   ]
  },
  {
   "cell_type": "code",
   "execution_count": 217,
   "id": "da38a8c1-9bd1-4150-9935-9f330706cc59",
   "metadata": {},
   "outputs": [],
   "source": [
    "tdf1['end_surpass'] = tdf1.end_interval_sched < tdf1.end_interval_log"
   ]
  },
  {
   "cell_type": "code",
   "execution_count": 218,
   "id": "69a26358-cf02-480f-98fe-d7fab116488d",
   "metadata": {},
   "outputs": [
    {
     "data": {
      "text/plain": [
       "334"
      ]
     },
     "execution_count": 218,
     "metadata": {},
     "output_type": "execute_result"
    }
   ],
   "source": [
    "dfclean = tdf1.loc[(tdf1.end_surpass == False) & (~pd.isna(tdf1.pos_status))]\n",
    "len(dfclean)"
   ]
  },
  {
   "cell_type": "code",
   "execution_count": 220,
   "id": "40cfb2bb-f9bf-49aa-a419-0a1ea93fdd88",
   "metadata": {},
   "outputs": [
    {
     "data": {
      "text/plain": [
       "153"
      ]
     },
     "execution_count": 220,
     "metadata": {},
     "output_type": "execute_result"
    }
   ],
   "source": [
    "dfdirty = tdf1.loc[tdf1.end_surpass]\n",
    "len(dfdirty)"
   ]
  },
  {
   "cell_type": "code",
   "execution_count": 250,
   "id": "0e9914fd-a4cc-4257-8607-38bdb9c79c2b",
   "metadata": {},
   "outputs": [],
   "source": [
    "dfclean['activity_type'] = dfclean.apply(lambda row: activity_matrix.get(row.pos_status).get(row['reason.1']),axis=1)"
   ]
  },
  {
   "cell_type": "code",
   "execution_count": 251,
   "id": "0c740e1d-548c-4b08-95f1-19a82bbb78c2",
   "metadata": {},
   "outputs": [],
   "source": [
    "dfclean['mins'] = [round(x.seconds / 60,2)  for x in dfclean.end_interval_log - dfclean.start_interval_log]"
   ]
  },
  {
   "cell_type": "code",
   "execution_count": 253,
   "id": "4da85527-c996-4399-ae6e-8c8c77820043",
   "metadata": {},
   "outputs": [],
   "source": [
    "dfclean.to_clipboard()"
   ]
  },
  {
   "cell_type": "code",
   "execution_count": 252,
   "id": "a8383249-ea0e-4131-98fb-bc58f64b8e96",
   "metadata": {},
   "outputs": [
    {
     "data": {
      "text/plain": [
       "activity_type\n",
       "1    12722.96\n",
       "2     6507.86\n",
       "3        8.47\n",
       "4    14405.37\n",
       "5        0.05\n",
       "7        4.21\n",
       "8    29395.45\n",
       "Name: mins, dtype: float64"
      ]
     },
     "execution_count": 252,
     "metadata": {},
     "output_type": "execute_result"
    }
   ],
   "source": [
    "dfclean.groupby('activity_type')['mins'].sum()"
   ]
  },
  {
   "cell_type": "code",
   "execution_count": 227,
   "id": "34349ed0-9297-424c-9e37-2897bc2aa661",
   "metadata": {},
   "outputs": [],
   "source": [
    "dfclean[['name','reason.1','start_interval_log','end_interval_log','pos_status','start_interval_sched','end_interval_sched','mins','activity_type']].to_clipboard(index=False)"
   ]
  },
  {
   "cell_type": "markdown",
   "id": "2dc85866-6527-4ddb-b9bd-2028e6dd739d",
   "metadata": {},
   "source": [
    "#### the problem is the end\n",
    "1. make a new entry\n",
    "2. clean up entry "
   ]
  },
  {
   "cell_type": "code",
   "execution_count": 238,
   "id": "c9f90816-9883-445a-a898-05ff080d0479",
   "metadata": {},
   "outputs": [],
   "source": [
    "added_rows = []\n",
    "for i,row in dfdirty.iloc[:].iterrows():\n",
    "    entry1 = row.copy()\n",
    "    entry1.end_interval_log = entry1.end_interval_sched\n",
    "    added_rows.append(entry1)\n",
    "    entry2 = row.copy()\n",
    "    entry2.start_interval_log = entry2.end_interval_sched\n",
    "    added_rows.append(entry2)\n"
   ]
  },
  {
   "cell_type": "code",
   "execution_count": 239,
   "id": "ec2c7c8f-e505-4d82-98e2-8b7231bf46c4",
   "metadata": {},
   "outputs": [],
   "source": [
    "df_new = pd.DataFrame(added_rows)"
   ]
  },
  {
   "cell_type": "code",
   "execution_count": 240,
   "id": "a2fcfed9-494c-4569-ad96-7e556cd479d3",
   "metadata": {},
   "outputs": [],
   "source": [
    "df_new = df_new[['name','uid','type','reason.1','start_interval_log','end_interval_log']]"
   ]
  },
  {
   "cell_type": "code",
   "execution_count": 241,
   "id": "22928f1e-902c-4538-ab9e-94db28a8b9df",
   "metadata": {},
   "outputs": [],
   "source": [
    "df_new = pd.merge_asof(df_new.sort_values(by='start_interval_log'),tdx[['pos_status','start_interval_sched','end_interval_sched']],\n",
    "    left_on='start_interval_log', \n",
    "    right_on='start_interval_sched',\n",
    "    suffixes=('_log', '_sched'), \n",
    "    direction='backward'\n",
    ")"
   ]
  },
  {
   "cell_type": "code",
   "execution_count": 242,
   "id": "e9ddcf83-59b1-42c4-857c-799db91abe38",
   "metadata": {},
   "outputs": [],
   "source": [
    "df_new['end_surpass'] = df_new.end_interval_sched < df_new.end_interval_log"
   ]
  },
  {
   "cell_type": "code",
   "execution_count": 243,
   "id": "dca8b3f9-3fca-41df-88fd-2b9b2a35e99b",
   "metadata": {},
   "outputs": [
    {
     "data": {
      "text/plain": [
       "end_surpass\n",
       "False    74\n",
       "True     68\n",
       "dtype: int64"
      ]
     },
     "execution_count": 243,
     "metadata": {},
     "output_type": "execute_result"
    }
   ],
   "source": [
    "df_new.groupby('end_surpass').size()"
   ]
  },
  {
   "cell_type": "code",
   "execution_count": 244,
   "id": "f21aff23-75c6-416d-8a8a-48110af14af5",
   "metadata": {},
   "outputs": [],
   "source": [
    "dfclean = pd.concat([dfclean,df_new.loc[df_new.end_surpass==False]])"
   ]
  },
  {
   "cell_type": "code",
   "execution_count": 245,
   "id": "6b93664d-f85a-4c40-b47d-6c6675ecfaca",
   "metadata": {},
   "outputs": [
    {
     "data": {
      "text/plain": [
       "68"
      ]
     },
     "execution_count": 245,
     "metadata": {},
     "output_type": "execute_result"
    }
   ],
   "source": [
    "dfdirty = df_new.loc[df_new.end_surpass]\n",
    "len(dfdirty)"
   ]
  },
  {
   "cell_type": "code",
   "execution_count": null,
   "id": "c7531878-c2f5-4a6b-9923-343a578157ae",
   "metadata": {},
   "outputs": [],
   "source": []
  },
  {
   "cell_type": "code",
   "execution_count": null,
   "id": "5bbd0a3c-0153-4346-83f0-416e0cdeb71a",
   "metadata": {},
   "outputs": [],
   "source": []
  },
  {
   "cell_type": "code",
   "execution_count": null,
   "id": "5c8fe9fb-8205-4e47-99f1-603e6f5cbc82",
   "metadata": {},
   "outputs": [],
   "source": []
  },
  {
   "cell_type": "code",
   "execution_count": null,
   "id": "9667a14a-a6d7-47c0-82a6-44c925b23d97",
   "metadata": {},
   "outputs": [],
   "source": []
  },
  {
   "cell_type": "code",
   "execution_count": null,
   "id": "7e56dbe6-2665-4e71-9613-50ec555216a4",
   "metadata": {},
   "outputs": [],
   "source": []
  },
  {
   "cell_type": "code",
   "execution_count": null,
   "id": "d399f777-99e6-4d04-b375-74d0a6930d9b",
   "metadata": {},
   "outputs": [],
   "source": []
  },
  {
   "cell_type": "code",
   "execution_count": null,
   "id": "46914c91-53be-44f3-aef4-ee7b47699967",
   "metadata": {},
   "outputs": [],
   "source": []
  },
  {
   "cell_type": "code",
   "execution_count": null,
   "id": "948f5269-8050-4b4b-86d9-8c88b6a7ec65",
   "metadata": {},
   "outputs": [],
   "source": []
  },
  {
   "cell_type": "code",
   "execution_count": null,
   "id": "c9d9d3ef-086d-4c98-85e5-62a502f901ab",
   "metadata": {},
   "outputs": [],
   "source": []
  },
  {
   "cell_type": "code",
   "execution_count": null,
   "id": "73f7a46f-2698-415a-8e9f-3f40c8e1f565",
   "metadata": {},
   "outputs": [],
   "source": []
  },
  {
   "cell_type": "code",
   "execution_count": null,
   "id": "d7feed99-147f-48de-92c5-07c4a6c79c1b",
   "metadata": {},
   "outputs": [],
   "source": []
  },
  {
   "cell_type": "code",
   "execution_count": null,
   "id": "0ac912e6-02b5-4b75-b068-1b7e31318cc0",
   "metadata": {},
   "outputs": [],
   "source": []
  },
  {
   "cell_type": "code",
   "execution_count": null,
   "id": "1dfb422d-1873-4c8e-9673-bd7ef6e1bd18",
   "metadata": {},
   "outputs": [],
   "source": []
  },
  {
   "cell_type": "code",
   "execution_count": null,
   "id": "89153f7c-268c-470a-b2cc-12ba88a3f437",
   "metadata": {},
   "outputs": [],
   "source": [
    "def is_overlap(start1, end1, start2, end2):\n",
    "    return max(start1, start2) < min(end1, end2)"
   ]
  },
  {
   "cell_type": "code",
   "execution_count": null,
   "id": "5c783c32-2a64-48bc-9399-6829eb65d043",
   "metadata": {},
   "outputs": [],
   "source": [
    "def get_intersection_and_non_overlap(schedule_start, schedule_end, actual_intervals):\n",
    "    intersection_intervals = []\n",
    "    non_overlap_intervals = []\n",
    "    \n",
    "    # Initial non-overlapped interval is the whole schedule\n",
    "    non_overlap_intervals.append((schedule_start, schedule_end))\n",
    "    \n",
    "    for actual_start, actual_end in actual_intervals:\n",
    "        new_non_overlap_intervals = []\n",
    "        \n",
    "        for non_overlap_start, non_overlap_end in non_overlap_intervals:\n",
    "            # Check for overlap\n",
    "            if actual_end < non_overlap_start or actual_start > non_overlap_end:\n",
    "                # No overlap, keep the interval as is\n",
    "                new_non_overlap_intervals.append((non_overlap_start, non_overlap_end))\n",
    "            else:\n",
    "                # If there's overlap, adjust non-overlapped intervals and record intersection\n",
    "                if actual_start > non_overlap_start:\n",
    "                    new_non_overlap_intervals.append((non_overlap_start, actual_start))\n",
    "                if actual_end < non_overlap_end:\n",
    "                    new_non_overlap_intervals.append((actual_end, non_overlap_end))\n",
    "                \n",
    "                # Add to intersection intervals\n",
    "                intersection_start = max(non_overlap_start, actual_start)\n",
    "                intersection_end = min(non_overlap_end, actual_end)\n",
    "                intersection_intervals.append((intersection_start, intersection_end))\n",
    "        \n",
    "        # Update non-overlap intervals after processing this actual interval\n",
    "        non_overlap_intervals = new_non_overlap_intervals\n",
    "\n",
    "    non_compliance_seconds = 0\n",
    "\n",
    "    for interval in non_overlap_intervals:\n",
    "        non_compliance_seconds += (interval[1] - interval[0]).seconds \n",
    "    \n",
    "    return intersection_intervals, non_overlap_intervals,non_compliance_seconds\n",
    "\n",
    "\n",
    "\n"
   ]
  },
  {
   "cell_type": "code",
   "execution_count": null,
   "id": "ffabcd92-54c8-4055-a1ad-aeb282c5b1d0",
   "metadata": {},
   "outputs": [],
   "source": [
    "tdx.start_time = pd.to_datetime(tdx.start_time)\n",
    "tdx.end_time = pd.to_datetime(tdx.end_time)"
   ]
  },
  {
   "cell_type": "code",
   "execution_count": null,
   "id": "8b770f7f-5d25-43e0-9625-a72ae1e43d8d",
   "metadata": {},
   "outputs": [],
   "source": [
    "tdx['start_interval'] = tdx.apply(startInterval,axis=1)\n",
    "tdx['start_interval'] = [x.tz_localize('UTC') for x in tdx.start_interval]\n",
    "tdx['end_interval'] = tdx.apply(endInterval,axis=1)\n",
    "tdx['end_interval'] = [x.tz_localize('UTC') for x in tdx.end_interval]\n"
   ]
  },
  {
   "cell_type": "code",
   "execution_count": null,
   "id": "272bd4cf-8235-4535-a33a-717554729f19",
   "metadata": {},
   "outputs": [],
   "source": [
    "def get_non_compliance_seconds(row):\n",
    "    if row.pos_status != 'Phone Time':\n",
    "        return 0\n",
    "    else:\n",
    "        return get_intersection_and_non_overlap(row.start_interval, row.end_interval, [(row.createtime,row.endtime) for i,row in tdf.iterrows()])[2]\n",
    "\n",
    "\n",
    "def get_non_compliance_seconds_stretch(row):\n",
    "    if row.pos_status != 'Phone Time':\n",
    "        return 0\n",
    "    else:\n",
    "        return get_intersection_and_non_overlap(row.start_interval, row.end_interval, [(row.createtime,row.endtime) for i,row in temp_df2.iterrows()])[2]\n",
    "        "
   ]
  },
  {
   "cell_type": "code",
   "execution_count": null,
   "id": "b91cd0d6-7844-4e12-8a07-33818646fddd",
   "metadata": {},
   "outputs": [],
   "source": []
  },
  {
   "cell_type": "code",
   "execution_count": null,
   "id": "9133da92-9f06-459b-8eaf-942ab7d9606a",
   "metadata": {},
   "outputs": [],
   "source": [
    "tdf = tdf.loc[tdf.type == 'on']"
   ]
  },
  {
   "cell_type": "code",
   "execution_count": null,
   "id": "8daac24a-8905-4685-b1ad-bc464eef4bd2",
   "metadata": {},
   "outputs": [],
   "source": [
    "tdx['non_adherance'] = tdx.apply(lambda row: get_non_compliance_seconds(row) if row.pos_status == 'Phone Time' else 0,axis=1)"
   ]
  },
  {
   "cell_type": "code",
   "execution_count": null,
   "id": "6cab1d5b-4be8-4444-9b35-ff387480fa61",
   "metadata": {},
   "outputs": [],
   "source": [
    "tdx['non_adherance_inc'] = tdx.apply(lambda row: get_non_compliance_seconds_stretch(row) if row.pos_status == 'Phone Time' else 0,axis=1)"
   ]
  },
  {
   "cell_type": "code",
   "execution_count": null,
   "id": "a691993f-2a1b-4cc2-85f6-e430a3a66cfc",
   "metadata": {},
   "outputs": [],
   "source": [
    "tdx['delta'] = tdx.non_adherance - tdx.non_adherance_inc"
   ]
  },
  {
   "cell_type": "code",
   "execution_count": null,
   "id": "74ef4cfc-bc67-4510-bd4c-4907aa95bb5d",
   "metadata": {},
   "outputs": [],
   "source": [
    "tdx.loc[tdx.pos_status == 'Phone Time'].sort_values(by='delta',ascending=False)['non_adherance'].sum() / 60 / 60"
   ]
  },
  {
   "cell_type": "code",
   "execution_count": null,
   "id": "02bce434-eebf-4bb7-b335-394652b18a7e",
   "metadata": {},
   "outputs": [],
   "source": [
    "tdx.loc[tdx.pos_status == 'Phone Time'].sort_values(by='delta',ascending=False)"
   ]
  },
  {
   "cell_type": "code",
   "execution_count": null,
   "id": "38418749-4bbf-49c3-bbc3-9ec46b2f4a07",
   "metadata": {},
   "outputs": [],
   "source": [
    "tdf"
   ]
  },
  {
   "cell_type": "code",
   "execution_count": null,
   "id": "0b85721d-c12b-4dd8-bc57-32fc88392f46",
   "metadata": {},
   "outputs": [],
   "source": []
  },
  {
   "cell_type": "code",
   "execution_count": null,
   "id": "ca0a6efb-f908-4f42-aeb1-93d729270de5",
   "metadata": {},
   "outputs": [],
   "source": []
  },
  {
   "cell_type": "code",
   "execution_count": null,
   "id": "7aa1eb38-27b7-402a-862b-8046dc245c79",
   "metadata": {},
   "outputs": [],
   "source": []
  }
 ],
 "metadata": {
  "kernelspec": {
   "display_name": "Pay Dispute",
   "language": "python",
   "name": "myenv"
  },
  "language_info": {
   "codemirror_mode": {
    "name": "ipython",
    "version": 3
   },
   "file_extension": ".py",
   "mimetype": "text/x-python",
   "name": "python",
   "nbconvert_exporter": "python",
   "pygments_lexer": "ipython3",
   "version": "3.12.0"
  }
 },
 "nbformat": 4,
 "nbformat_minor": 5
}
